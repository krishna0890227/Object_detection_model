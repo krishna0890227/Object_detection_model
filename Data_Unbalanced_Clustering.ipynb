{
  "nbformat": 4,
  "nbformat_minor": 0,
  "metadata": {
    "colab": {
      "provenance": []
    },
    "kernelspec": {
      "name": "python3",
      "display_name": "Python 3"
    },
    "language_info": {
      "name": "python"
    }
  },
  "cells": [
    {
      "cell_type": "code",
      "execution_count": 1,
      "metadata": {
        "id": "4oubHcvsy-LK"
      },
      "outputs": [],
      "source": [
        "import tensorflow as tf\n",
        "from tensorflow import keras\n",
        "\n",
        "import os\n",
        "import tempfile\n",
        "\n",
        "import matplotlib as mpl\n",
        "import matplotlib.pyplot as plt\n",
        "import numpy as np\n",
        "import pandas as pd\n",
        "import seaborn as sns\n",
        "\n",
        "import sklearn\n",
        "from sklearn.metrics import confusion_matrix\n",
        "from sklearn.model_selection import train_test_split\n",
        "from sklearn.preprocessing import StandardScaler"
      ]
    },
    {
      "cell_type": "markdown",
      "source": [
        "Working from the : https://www.tensorflow.org/tutorials/structured_data/imbalanced_data\n"
      ],
      "metadata": {
        "id": "YTjjVItm_0iJ"
      }
    },
    {
      "cell_type": "code",
      "source": [
        "mpl.rcParams['figure.figsize'] = (12, 10)\n",
        "colors = plt.rcParams['axes.prop_cycle'].by_key()['color']"
      ],
      "metadata": {
        "id": "wcH2B1cizMeA"
      },
      "execution_count": 2,
      "outputs": []
    },
    {
      "cell_type": "code",
      "source": [
        "file = tf.keras.utils\n",
        "raw_df = pd.read_csv('https://storage.googleapis.com/download.tensorflow.org/data/creditcard.csv')\n",
        "raw_df.head()"
      ],
      "metadata": {
        "colab": {
          "base_uri": "https://localhost:8080/",
          "height": 236
        },
        "id": "F3NRse70zaIz",
        "outputId": "31d5969b-5f45-4b5f-9212-1b222affa6fb"
      },
      "execution_count": 3,
      "outputs": [
        {
          "output_type": "execute_result",
          "data": {
            "text/plain": [
              "   Time        V1        V2        V3        V4        V5        V6        V7  \\\n",
              "0   0.0 -1.359807 -0.072781  2.536347  1.378155 -0.338321  0.462388  0.239599   \n",
              "1   0.0  1.191857  0.266151  0.166480  0.448154  0.060018 -0.082361 -0.078803   \n",
              "2   1.0 -1.358354 -1.340163  1.773209  0.379780 -0.503198  1.800499  0.791461   \n",
              "3   1.0 -0.966272 -0.185226  1.792993 -0.863291 -0.010309  1.247203  0.237609   \n",
              "4   2.0 -1.158233  0.877737  1.548718  0.403034 -0.407193  0.095921  0.592941   \n",
              "\n",
              "         V8        V9  ...       V21       V22       V23       V24       V25  \\\n",
              "0  0.098698  0.363787  ... -0.018307  0.277838 -0.110474  0.066928  0.128539   \n",
              "1  0.085102 -0.255425  ... -0.225775 -0.638672  0.101288 -0.339846  0.167170   \n",
              "2  0.247676 -1.514654  ...  0.247998  0.771679  0.909412 -0.689281 -0.327642   \n",
              "3  0.377436 -1.387024  ... -0.108300  0.005274 -0.190321 -1.175575  0.647376   \n",
              "4 -0.270533  0.817739  ... -0.009431  0.798278 -0.137458  0.141267 -0.206010   \n",
              "\n",
              "        V26       V27       V28  Amount  Class  \n",
              "0 -0.189115  0.133558 -0.021053  149.62      0  \n",
              "1  0.125895 -0.008983  0.014724    2.69      0  \n",
              "2 -0.139097 -0.055353 -0.059752  378.66      0  \n",
              "3 -0.221929  0.062723  0.061458  123.50      0  \n",
              "4  0.502292  0.219422  0.215153   69.99      0  \n",
              "\n",
              "[5 rows x 31 columns]"
            ],
            "text/html": [
              "\n",
              "  <div id=\"df-e4b24ee0-e2f0-4de9-a9ef-589d99cfb201\" class=\"colab-df-container\">\n",
              "    <div>\n",
              "<style scoped>\n",
              "    .dataframe tbody tr th:only-of-type {\n",
              "        vertical-align: middle;\n",
              "    }\n",
              "\n",
              "    .dataframe tbody tr th {\n",
              "        vertical-align: top;\n",
              "    }\n",
              "\n",
              "    .dataframe thead th {\n",
              "        text-align: right;\n",
              "    }\n",
              "</style>\n",
              "<table border=\"1\" class=\"dataframe\">\n",
              "  <thead>\n",
              "    <tr style=\"text-align: right;\">\n",
              "      <th></th>\n",
              "      <th>Time</th>\n",
              "      <th>V1</th>\n",
              "      <th>V2</th>\n",
              "      <th>V3</th>\n",
              "      <th>V4</th>\n",
              "      <th>V5</th>\n",
              "      <th>V6</th>\n",
              "      <th>V7</th>\n",
              "      <th>V8</th>\n",
              "      <th>V9</th>\n",
              "      <th>...</th>\n",
              "      <th>V21</th>\n",
              "      <th>V22</th>\n",
              "      <th>V23</th>\n",
              "      <th>V24</th>\n",
              "      <th>V25</th>\n",
              "      <th>V26</th>\n",
              "      <th>V27</th>\n",
              "      <th>V28</th>\n",
              "      <th>Amount</th>\n",
              "      <th>Class</th>\n",
              "    </tr>\n",
              "  </thead>\n",
              "  <tbody>\n",
              "    <tr>\n",
              "      <th>0</th>\n",
              "      <td>0.0</td>\n",
              "      <td>-1.359807</td>\n",
              "      <td>-0.072781</td>\n",
              "      <td>2.536347</td>\n",
              "      <td>1.378155</td>\n",
              "      <td>-0.338321</td>\n",
              "      <td>0.462388</td>\n",
              "      <td>0.239599</td>\n",
              "      <td>0.098698</td>\n",
              "      <td>0.363787</td>\n",
              "      <td>...</td>\n",
              "      <td>-0.018307</td>\n",
              "      <td>0.277838</td>\n",
              "      <td>-0.110474</td>\n",
              "      <td>0.066928</td>\n",
              "      <td>0.128539</td>\n",
              "      <td>-0.189115</td>\n",
              "      <td>0.133558</td>\n",
              "      <td>-0.021053</td>\n",
              "      <td>149.62</td>\n",
              "      <td>0</td>\n",
              "    </tr>\n",
              "    <tr>\n",
              "      <th>1</th>\n",
              "      <td>0.0</td>\n",
              "      <td>1.191857</td>\n",
              "      <td>0.266151</td>\n",
              "      <td>0.166480</td>\n",
              "      <td>0.448154</td>\n",
              "      <td>0.060018</td>\n",
              "      <td>-0.082361</td>\n",
              "      <td>-0.078803</td>\n",
              "      <td>0.085102</td>\n",
              "      <td>-0.255425</td>\n",
              "      <td>...</td>\n",
              "      <td>-0.225775</td>\n",
              "      <td>-0.638672</td>\n",
              "      <td>0.101288</td>\n",
              "      <td>-0.339846</td>\n",
              "      <td>0.167170</td>\n",
              "      <td>0.125895</td>\n",
              "      <td>-0.008983</td>\n",
              "      <td>0.014724</td>\n",
              "      <td>2.69</td>\n",
              "      <td>0</td>\n",
              "    </tr>\n",
              "    <tr>\n",
              "      <th>2</th>\n",
              "      <td>1.0</td>\n",
              "      <td>-1.358354</td>\n",
              "      <td>-1.340163</td>\n",
              "      <td>1.773209</td>\n",
              "      <td>0.379780</td>\n",
              "      <td>-0.503198</td>\n",
              "      <td>1.800499</td>\n",
              "      <td>0.791461</td>\n",
              "      <td>0.247676</td>\n",
              "      <td>-1.514654</td>\n",
              "      <td>...</td>\n",
              "      <td>0.247998</td>\n",
              "      <td>0.771679</td>\n",
              "      <td>0.909412</td>\n",
              "      <td>-0.689281</td>\n",
              "      <td>-0.327642</td>\n",
              "      <td>-0.139097</td>\n",
              "      <td>-0.055353</td>\n",
              "      <td>-0.059752</td>\n",
              "      <td>378.66</td>\n",
              "      <td>0</td>\n",
              "    </tr>\n",
              "    <tr>\n",
              "      <th>3</th>\n",
              "      <td>1.0</td>\n",
              "      <td>-0.966272</td>\n",
              "      <td>-0.185226</td>\n",
              "      <td>1.792993</td>\n",
              "      <td>-0.863291</td>\n",
              "      <td>-0.010309</td>\n",
              "      <td>1.247203</td>\n",
              "      <td>0.237609</td>\n",
              "      <td>0.377436</td>\n",
              "      <td>-1.387024</td>\n",
              "      <td>...</td>\n",
              "      <td>-0.108300</td>\n",
              "      <td>0.005274</td>\n",
              "      <td>-0.190321</td>\n",
              "      <td>-1.175575</td>\n",
              "      <td>0.647376</td>\n",
              "      <td>-0.221929</td>\n",
              "      <td>0.062723</td>\n",
              "      <td>0.061458</td>\n",
              "      <td>123.50</td>\n",
              "      <td>0</td>\n",
              "    </tr>\n",
              "    <tr>\n",
              "      <th>4</th>\n",
              "      <td>2.0</td>\n",
              "      <td>-1.158233</td>\n",
              "      <td>0.877737</td>\n",
              "      <td>1.548718</td>\n",
              "      <td>0.403034</td>\n",
              "      <td>-0.407193</td>\n",
              "      <td>0.095921</td>\n",
              "      <td>0.592941</td>\n",
              "      <td>-0.270533</td>\n",
              "      <td>0.817739</td>\n",
              "      <td>...</td>\n",
              "      <td>-0.009431</td>\n",
              "      <td>0.798278</td>\n",
              "      <td>-0.137458</td>\n",
              "      <td>0.141267</td>\n",
              "      <td>-0.206010</td>\n",
              "      <td>0.502292</td>\n",
              "      <td>0.219422</td>\n",
              "      <td>0.215153</td>\n",
              "      <td>69.99</td>\n",
              "      <td>0</td>\n",
              "    </tr>\n",
              "  </tbody>\n",
              "</table>\n",
              "<p>5 rows × 31 columns</p>\n",
              "</div>\n",
              "    <div class=\"colab-df-buttons\">\n",
              "\n",
              "  <div class=\"colab-df-container\">\n",
              "    <button class=\"colab-df-convert\" onclick=\"convertToInteractive('df-e4b24ee0-e2f0-4de9-a9ef-589d99cfb201')\"\n",
              "            title=\"Convert this dataframe to an interactive table.\"\n",
              "            style=\"display:none;\">\n",
              "\n",
              "  <svg xmlns=\"http://www.w3.org/2000/svg\" height=\"24px\" viewBox=\"0 -960 960 960\">\n",
              "    <path d=\"M120-120v-720h720v720H120Zm60-500h600v-160H180v160Zm220 220h160v-160H400v160Zm0 220h160v-160H400v160ZM180-400h160v-160H180v160Zm440 0h160v-160H620v160ZM180-180h160v-160H180v160Zm440 0h160v-160H620v160Z\"/>\n",
              "  </svg>\n",
              "    </button>\n",
              "\n",
              "  <style>\n",
              "    .colab-df-container {\n",
              "      display:flex;\n",
              "      gap: 12px;\n",
              "    }\n",
              "\n",
              "    .colab-df-convert {\n",
              "      background-color: #E8F0FE;\n",
              "      border: none;\n",
              "      border-radius: 50%;\n",
              "      cursor: pointer;\n",
              "      display: none;\n",
              "      fill: #1967D2;\n",
              "      height: 32px;\n",
              "      padding: 0 0 0 0;\n",
              "      width: 32px;\n",
              "    }\n",
              "\n",
              "    .colab-df-convert:hover {\n",
              "      background-color: #E2EBFA;\n",
              "      box-shadow: 0px 1px 2px rgba(60, 64, 67, 0.3), 0px 1px 3px 1px rgba(60, 64, 67, 0.15);\n",
              "      fill: #174EA6;\n",
              "    }\n",
              "\n",
              "    .colab-df-buttons div {\n",
              "      margin-bottom: 4px;\n",
              "    }\n",
              "\n",
              "    [theme=dark] .colab-df-convert {\n",
              "      background-color: #3B4455;\n",
              "      fill: #D2E3FC;\n",
              "    }\n",
              "\n",
              "    [theme=dark] .colab-df-convert:hover {\n",
              "      background-color: #434B5C;\n",
              "      box-shadow: 0px 1px 3px 1px rgba(0, 0, 0, 0.15);\n",
              "      filter: drop-shadow(0px 1px 2px rgba(0, 0, 0, 0.3));\n",
              "      fill: #FFFFFF;\n",
              "    }\n",
              "  </style>\n",
              "\n",
              "    <script>\n",
              "      const buttonEl =\n",
              "        document.querySelector('#df-e4b24ee0-e2f0-4de9-a9ef-589d99cfb201 button.colab-df-convert');\n",
              "      buttonEl.style.display =\n",
              "        google.colab.kernel.accessAllowed ? 'block' : 'none';\n",
              "\n",
              "      async function convertToInteractive(key) {\n",
              "        const element = document.querySelector('#df-e4b24ee0-e2f0-4de9-a9ef-589d99cfb201');\n",
              "        const dataTable =\n",
              "          await google.colab.kernel.invokeFunction('convertToInteractive',\n",
              "                                                    [key], {});\n",
              "        if (!dataTable) return;\n",
              "\n",
              "        const docLinkHtml = 'Like what you see? Visit the ' +\n",
              "          '<a target=\"_blank\" href=https://colab.research.google.com/notebooks/data_table.ipynb>data table notebook</a>'\n",
              "          + ' to learn more about interactive tables.';\n",
              "        element.innerHTML = '';\n",
              "        dataTable['output_type'] = 'display_data';\n",
              "        await google.colab.output.renderOutput(dataTable, element);\n",
              "        const docLink = document.createElement('div');\n",
              "        docLink.innerHTML = docLinkHtml;\n",
              "        element.appendChild(docLink);\n",
              "      }\n",
              "    </script>\n",
              "  </div>\n",
              "\n",
              "\n",
              "<div id=\"df-30850e04-0b9c-4b9a-b2fc-1e3c0bac24dd\">\n",
              "  <button class=\"colab-df-quickchart\" onclick=\"quickchart('df-30850e04-0b9c-4b9a-b2fc-1e3c0bac24dd')\"\n",
              "            title=\"Suggest charts\"\n",
              "            style=\"display:none;\">\n",
              "\n",
              "<svg xmlns=\"http://www.w3.org/2000/svg\" height=\"24px\"viewBox=\"0 0 24 24\"\n",
              "     width=\"24px\">\n",
              "    <g>\n",
              "        <path d=\"M19 3H5c-1.1 0-2 .9-2 2v14c0 1.1.9 2 2 2h14c1.1 0 2-.9 2-2V5c0-1.1-.9-2-2-2zM9 17H7v-7h2v7zm4 0h-2V7h2v10zm4 0h-2v-4h2v4z\"/>\n",
              "    </g>\n",
              "</svg>\n",
              "  </button>\n",
              "\n",
              "<style>\n",
              "  .colab-df-quickchart {\n",
              "      --bg-color: #E8F0FE;\n",
              "      --fill-color: #1967D2;\n",
              "      --hover-bg-color: #E2EBFA;\n",
              "      --hover-fill-color: #174EA6;\n",
              "      --disabled-fill-color: #AAA;\n",
              "      --disabled-bg-color: #DDD;\n",
              "  }\n",
              "\n",
              "  [theme=dark] .colab-df-quickchart {\n",
              "      --bg-color: #3B4455;\n",
              "      --fill-color: #D2E3FC;\n",
              "      --hover-bg-color: #434B5C;\n",
              "      --hover-fill-color: #FFFFFF;\n",
              "      --disabled-bg-color: #3B4455;\n",
              "      --disabled-fill-color: #666;\n",
              "  }\n",
              "\n",
              "  .colab-df-quickchart {\n",
              "    background-color: var(--bg-color);\n",
              "    border: none;\n",
              "    border-radius: 50%;\n",
              "    cursor: pointer;\n",
              "    display: none;\n",
              "    fill: var(--fill-color);\n",
              "    height: 32px;\n",
              "    padding: 0;\n",
              "    width: 32px;\n",
              "  }\n",
              "\n",
              "  .colab-df-quickchart:hover {\n",
              "    background-color: var(--hover-bg-color);\n",
              "    box-shadow: 0 1px 2px rgba(60, 64, 67, 0.3), 0 1px 3px 1px rgba(60, 64, 67, 0.15);\n",
              "    fill: var(--button-hover-fill-color);\n",
              "  }\n",
              "\n",
              "  .colab-df-quickchart-complete:disabled,\n",
              "  .colab-df-quickchart-complete:disabled:hover {\n",
              "    background-color: var(--disabled-bg-color);\n",
              "    fill: var(--disabled-fill-color);\n",
              "    box-shadow: none;\n",
              "  }\n",
              "\n",
              "  .colab-df-spinner {\n",
              "    border: 2px solid var(--fill-color);\n",
              "    border-color: transparent;\n",
              "    border-bottom-color: var(--fill-color);\n",
              "    animation:\n",
              "      spin 1s steps(1) infinite;\n",
              "  }\n",
              "\n",
              "  @keyframes spin {\n",
              "    0% {\n",
              "      border-color: transparent;\n",
              "      border-bottom-color: var(--fill-color);\n",
              "      border-left-color: var(--fill-color);\n",
              "    }\n",
              "    20% {\n",
              "      border-color: transparent;\n",
              "      border-left-color: var(--fill-color);\n",
              "      border-top-color: var(--fill-color);\n",
              "    }\n",
              "    30% {\n",
              "      border-color: transparent;\n",
              "      border-left-color: var(--fill-color);\n",
              "      border-top-color: var(--fill-color);\n",
              "      border-right-color: var(--fill-color);\n",
              "    }\n",
              "    40% {\n",
              "      border-color: transparent;\n",
              "      border-right-color: var(--fill-color);\n",
              "      border-top-color: var(--fill-color);\n",
              "    }\n",
              "    60% {\n",
              "      border-color: transparent;\n",
              "      border-right-color: var(--fill-color);\n",
              "    }\n",
              "    80% {\n",
              "      border-color: transparent;\n",
              "      border-right-color: var(--fill-color);\n",
              "      border-bottom-color: var(--fill-color);\n",
              "    }\n",
              "    90% {\n",
              "      border-color: transparent;\n",
              "      border-bottom-color: var(--fill-color);\n",
              "    }\n",
              "  }\n",
              "</style>\n",
              "\n",
              "  <script>\n",
              "    async function quickchart(key) {\n",
              "      const quickchartButtonEl =\n",
              "        document.querySelector('#' + key + ' button');\n",
              "      quickchartButtonEl.disabled = true;  // To prevent multiple clicks.\n",
              "      quickchartButtonEl.classList.add('colab-df-spinner');\n",
              "      try {\n",
              "        const charts = await google.colab.kernel.invokeFunction(\n",
              "            'suggestCharts', [key], {});\n",
              "      } catch (error) {\n",
              "        console.error('Error during call to suggestCharts:', error);\n",
              "      }\n",
              "      quickchartButtonEl.classList.remove('colab-df-spinner');\n",
              "      quickchartButtonEl.classList.add('colab-df-quickchart-complete');\n",
              "    }\n",
              "    (() => {\n",
              "      let quickchartButtonEl =\n",
              "        document.querySelector('#df-30850e04-0b9c-4b9a-b2fc-1e3c0bac24dd button');\n",
              "      quickchartButtonEl.style.display =\n",
              "        google.colab.kernel.accessAllowed ? 'block' : 'none';\n",
              "    })();\n",
              "  </script>\n",
              "</div>\n",
              "    </div>\n",
              "  </div>\n"
            ],
            "application/vnd.google.colaboratory.intrinsic+json": {
              "type": "dataframe",
              "variable_name": "raw_df"
            }
          },
          "metadata": {},
          "execution_count": 3
        }
      ]
    },
    {
      "cell_type": "code",
      "source": [
        "raw_df[['Time', 'V1', 'V2', 'V3', 'V4', 'V5', 'V26', 'V27', 'V28', 'Amount', 'Class']].describe()"
      ],
      "metadata": {
        "colab": {
          "base_uri": "https://localhost:8080/",
          "height": 300
        },
        "id": "jrm-m1mXzihr",
        "outputId": "3bb4eb51-0a8f-4e20-a3f3-7d46cb08c31a"
      },
      "execution_count": 4,
      "outputs": [
        {
          "output_type": "execute_result",
          "data": {
            "text/plain": [
              "                Time            V1            V2            V3            V4  \\\n",
              "count  284807.000000  2.848070e+05  2.848070e+05  2.848070e+05  2.848070e+05   \n",
              "mean    94813.859575  1.168375e-15  3.416908e-16 -1.379537e-15  2.074095e-15   \n",
              "std     47488.145955  1.958696e+00  1.651309e+00  1.516255e+00  1.415869e+00   \n",
              "min         0.000000 -5.640751e+01 -7.271573e+01 -4.832559e+01 -5.683171e+00   \n",
              "25%     54201.500000 -9.203734e-01 -5.985499e-01 -8.903648e-01 -8.486401e-01   \n",
              "50%     84692.000000  1.810880e-02  6.548556e-02  1.798463e-01 -1.984653e-02   \n",
              "75%    139320.500000  1.315642e+00  8.037239e-01  1.027196e+00  7.433413e-01   \n",
              "max    172792.000000  2.454930e+00  2.205773e+01  9.382558e+00  1.687534e+01   \n",
              "\n",
              "                 V5           V26           V27           V28         Amount  \\\n",
              "count  2.848070e+05  2.848070e+05  2.848070e+05  2.848070e+05  284807.000000   \n",
              "mean   9.604066e-16  1.683437e-15 -3.660091e-16 -1.227390e-16      88.349619   \n",
              "std    1.380247e+00  4.822270e-01  4.036325e-01  3.300833e-01     250.120109   \n",
              "min   -1.137433e+02 -2.604551e+00 -2.256568e+01 -1.543008e+01       0.000000   \n",
              "25%   -6.915971e-01 -3.269839e-01 -7.083953e-02 -5.295979e-02       5.600000   \n",
              "50%   -5.433583e-02 -5.213911e-02  1.342146e-03  1.124383e-02      22.000000   \n",
              "75%    6.119264e-01  2.409522e-01  9.104512e-02  7.827995e-02      77.165000   \n",
              "max    3.480167e+01  3.517346e+00  3.161220e+01  3.384781e+01   25691.160000   \n",
              "\n",
              "               Class  \n",
              "count  284807.000000  \n",
              "mean        0.001727  \n",
              "std         0.041527  \n",
              "min         0.000000  \n",
              "25%         0.000000  \n",
              "50%         0.000000  \n",
              "75%         0.000000  \n",
              "max         1.000000  "
            ],
            "text/html": [
              "\n",
              "  <div id=\"df-b1bbb652-ebf0-4b63-b729-e77a3c75f7ef\" class=\"colab-df-container\">\n",
              "    <div>\n",
              "<style scoped>\n",
              "    .dataframe tbody tr th:only-of-type {\n",
              "        vertical-align: middle;\n",
              "    }\n",
              "\n",
              "    .dataframe tbody tr th {\n",
              "        vertical-align: top;\n",
              "    }\n",
              "\n",
              "    .dataframe thead th {\n",
              "        text-align: right;\n",
              "    }\n",
              "</style>\n",
              "<table border=\"1\" class=\"dataframe\">\n",
              "  <thead>\n",
              "    <tr style=\"text-align: right;\">\n",
              "      <th></th>\n",
              "      <th>Time</th>\n",
              "      <th>V1</th>\n",
              "      <th>V2</th>\n",
              "      <th>V3</th>\n",
              "      <th>V4</th>\n",
              "      <th>V5</th>\n",
              "      <th>V26</th>\n",
              "      <th>V27</th>\n",
              "      <th>V28</th>\n",
              "      <th>Amount</th>\n",
              "      <th>Class</th>\n",
              "    </tr>\n",
              "  </thead>\n",
              "  <tbody>\n",
              "    <tr>\n",
              "      <th>count</th>\n",
              "      <td>284807.000000</td>\n",
              "      <td>2.848070e+05</td>\n",
              "      <td>2.848070e+05</td>\n",
              "      <td>2.848070e+05</td>\n",
              "      <td>2.848070e+05</td>\n",
              "      <td>2.848070e+05</td>\n",
              "      <td>2.848070e+05</td>\n",
              "      <td>2.848070e+05</td>\n",
              "      <td>2.848070e+05</td>\n",
              "      <td>284807.000000</td>\n",
              "      <td>284807.000000</td>\n",
              "    </tr>\n",
              "    <tr>\n",
              "      <th>mean</th>\n",
              "      <td>94813.859575</td>\n",
              "      <td>1.168375e-15</td>\n",
              "      <td>3.416908e-16</td>\n",
              "      <td>-1.379537e-15</td>\n",
              "      <td>2.074095e-15</td>\n",
              "      <td>9.604066e-16</td>\n",
              "      <td>1.683437e-15</td>\n",
              "      <td>-3.660091e-16</td>\n",
              "      <td>-1.227390e-16</td>\n",
              "      <td>88.349619</td>\n",
              "      <td>0.001727</td>\n",
              "    </tr>\n",
              "    <tr>\n",
              "      <th>std</th>\n",
              "      <td>47488.145955</td>\n",
              "      <td>1.958696e+00</td>\n",
              "      <td>1.651309e+00</td>\n",
              "      <td>1.516255e+00</td>\n",
              "      <td>1.415869e+00</td>\n",
              "      <td>1.380247e+00</td>\n",
              "      <td>4.822270e-01</td>\n",
              "      <td>4.036325e-01</td>\n",
              "      <td>3.300833e-01</td>\n",
              "      <td>250.120109</td>\n",
              "      <td>0.041527</td>\n",
              "    </tr>\n",
              "    <tr>\n",
              "      <th>min</th>\n",
              "      <td>0.000000</td>\n",
              "      <td>-5.640751e+01</td>\n",
              "      <td>-7.271573e+01</td>\n",
              "      <td>-4.832559e+01</td>\n",
              "      <td>-5.683171e+00</td>\n",
              "      <td>-1.137433e+02</td>\n",
              "      <td>-2.604551e+00</td>\n",
              "      <td>-2.256568e+01</td>\n",
              "      <td>-1.543008e+01</td>\n",
              "      <td>0.000000</td>\n",
              "      <td>0.000000</td>\n",
              "    </tr>\n",
              "    <tr>\n",
              "      <th>25%</th>\n",
              "      <td>54201.500000</td>\n",
              "      <td>-9.203734e-01</td>\n",
              "      <td>-5.985499e-01</td>\n",
              "      <td>-8.903648e-01</td>\n",
              "      <td>-8.486401e-01</td>\n",
              "      <td>-6.915971e-01</td>\n",
              "      <td>-3.269839e-01</td>\n",
              "      <td>-7.083953e-02</td>\n",
              "      <td>-5.295979e-02</td>\n",
              "      <td>5.600000</td>\n",
              "      <td>0.000000</td>\n",
              "    </tr>\n",
              "    <tr>\n",
              "      <th>50%</th>\n",
              "      <td>84692.000000</td>\n",
              "      <td>1.810880e-02</td>\n",
              "      <td>6.548556e-02</td>\n",
              "      <td>1.798463e-01</td>\n",
              "      <td>-1.984653e-02</td>\n",
              "      <td>-5.433583e-02</td>\n",
              "      <td>-5.213911e-02</td>\n",
              "      <td>1.342146e-03</td>\n",
              "      <td>1.124383e-02</td>\n",
              "      <td>22.000000</td>\n",
              "      <td>0.000000</td>\n",
              "    </tr>\n",
              "    <tr>\n",
              "      <th>75%</th>\n",
              "      <td>139320.500000</td>\n",
              "      <td>1.315642e+00</td>\n",
              "      <td>8.037239e-01</td>\n",
              "      <td>1.027196e+00</td>\n",
              "      <td>7.433413e-01</td>\n",
              "      <td>6.119264e-01</td>\n",
              "      <td>2.409522e-01</td>\n",
              "      <td>9.104512e-02</td>\n",
              "      <td>7.827995e-02</td>\n",
              "      <td>77.165000</td>\n",
              "      <td>0.000000</td>\n",
              "    </tr>\n",
              "    <tr>\n",
              "      <th>max</th>\n",
              "      <td>172792.000000</td>\n",
              "      <td>2.454930e+00</td>\n",
              "      <td>2.205773e+01</td>\n",
              "      <td>9.382558e+00</td>\n",
              "      <td>1.687534e+01</td>\n",
              "      <td>3.480167e+01</td>\n",
              "      <td>3.517346e+00</td>\n",
              "      <td>3.161220e+01</td>\n",
              "      <td>3.384781e+01</td>\n",
              "      <td>25691.160000</td>\n",
              "      <td>1.000000</td>\n",
              "    </tr>\n",
              "  </tbody>\n",
              "</table>\n",
              "</div>\n",
              "    <div class=\"colab-df-buttons\">\n",
              "\n",
              "  <div class=\"colab-df-container\">\n",
              "    <button class=\"colab-df-convert\" onclick=\"convertToInteractive('df-b1bbb652-ebf0-4b63-b729-e77a3c75f7ef')\"\n",
              "            title=\"Convert this dataframe to an interactive table.\"\n",
              "            style=\"display:none;\">\n",
              "\n",
              "  <svg xmlns=\"http://www.w3.org/2000/svg\" height=\"24px\" viewBox=\"0 -960 960 960\">\n",
              "    <path d=\"M120-120v-720h720v720H120Zm60-500h600v-160H180v160Zm220 220h160v-160H400v160Zm0 220h160v-160H400v160ZM180-400h160v-160H180v160Zm440 0h160v-160H620v160ZM180-180h160v-160H180v160Zm440 0h160v-160H620v160Z\"/>\n",
              "  </svg>\n",
              "    </button>\n",
              "\n",
              "  <style>\n",
              "    .colab-df-container {\n",
              "      display:flex;\n",
              "      gap: 12px;\n",
              "    }\n",
              "\n",
              "    .colab-df-convert {\n",
              "      background-color: #E8F0FE;\n",
              "      border: none;\n",
              "      border-radius: 50%;\n",
              "      cursor: pointer;\n",
              "      display: none;\n",
              "      fill: #1967D2;\n",
              "      height: 32px;\n",
              "      padding: 0 0 0 0;\n",
              "      width: 32px;\n",
              "    }\n",
              "\n",
              "    .colab-df-convert:hover {\n",
              "      background-color: #E2EBFA;\n",
              "      box-shadow: 0px 1px 2px rgba(60, 64, 67, 0.3), 0px 1px 3px 1px rgba(60, 64, 67, 0.15);\n",
              "      fill: #174EA6;\n",
              "    }\n",
              "\n",
              "    .colab-df-buttons div {\n",
              "      margin-bottom: 4px;\n",
              "    }\n",
              "\n",
              "    [theme=dark] .colab-df-convert {\n",
              "      background-color: #3B4455;\n",
              "      fill: #D2E3FC;\n",
              "    }\n",
              "\n",
              "    [theme=dark] .colab-df-convert:hover {\n",
              "      background-color: #434B5C;\n",
              "      box-shadow: 0px 1px 3px 1px rgba(0, 0, 0, 0.15);\n",
              "      filter: drop-shadow(0px 1px 2px rgba(0, 0, 0, 0.3));\n",
              "      fill: #FFFFFF;\n",
              "    }\n",
              "  </style>\n",
              "\n",
              "    <script>\n",
              "      const buttonEl =\n",
              "        document.querySelector('#df-b1bbb652-ebf0-4b63-b729-e77a3c75f7ef button.colab-df-convert');\n",
              "      buttonEl.style.display =\n",
              "        google.colab.kernel.accessAllowed ? 'block' : 'none';\n",
              "\n",
              "      async function convertToInteractive(key) {\n",
              "        const element = document.querySelector('#df-b1bbb652-ebf0-4b63-b729-e77a3c75f7ef');\n",
              "        const dataTable =\n",
              "          await google.colab.kernel.invokeFunction('convertToInteractive',\n",
              "                                                    [key], {});\n",
              "        if (!dataTable) return;\n",
              "\n",
              "        const docLinkHtml = 'Like what you see? Visit the ' +\n",
              "          '<a target=\"_blank\" href=https://colab.research.google.com/notebooks/data_table.ipynb>data table notebook</a>'\n",
              "          + ' to learn more about interactive tables.';\n",
              "        element.innerHTML = '';\n",
              "        dataTable['output_type'] = 'display_data';\n",
              "        await google.colab.output.renderOutput(dataTable, element);\n",
              "        const docLink = document.createElement('div');\n",
              "        docLink.innerHTML = docLinkHtml;\n",
              "        element.appendChild(docLink);\n",
              "      }\n",
              "    </script>\n",
              "  </div>\n",
              "\n",
              "\n",
              "<div id=\"df-0f90e682-94ed-4430-946c-7f98a663ba77\">\n",
              "  <button class=\"colab-df-quickchart\" onclick=\"quickchart('df-0f90e682-94ed-4430-946c-7f98a663ba77')\"\n",
              "            title=\"Suggest charts\"\n",
              "            style=\"display:none;\">\n",
              "\n",
              "<svg xmlns=\"http://www.w3.org/2000/svg\" height=\"24px\"viewBox=\"0 0 24 24\"\n",
              "     width=\"24px\">\n",
              "    <g>\n",
              "        <path d=\"M19 3H5c-1.1 0-2 .9-2 2v14c0 1.1.9 2 2 2h14c1.1 0 2-.9 2-2V5c0-1.1-.9-2-2-2zM9 17H7v-7h2v7zm4 0h-2V7h2v10zm4 0h-2v-4h2v4z\"/>\n",
              "    </g>\n",
              "</svg>\n",
              "  </button>\n",
              "\n",
              "<style>\n",
              "  .colab-df-quickchart {\n",
              "      --bg-color: #E8F0FE;\n",
              "      --fill-color: #1967D2;\n",
              "      --hover-bg-color: #E2EBFA;\n",
              "      --hover-fill-color: #174EA6;\n",
              "      --disabled-fill-color: #AAA;\n",
              "      --disabled-bg-color: #DDD;\n",
              "  }\n",
              "\n",
              "  [theme=dark] .colab-df-quickchart {\n",
              "      --bg-color: #3B4455;\n",
              "      --fill-color: #D2E3FC;\n",
              "      --hover-bg-color: #434B5C;\n",
              "      --hover-fill-color: #FFFFFF;\n",
              "      --disabled-bg-color: #3B4455;\n",
              "      --disabled-fill-color: #666;\n",
              "  }\n",
              "\n",
              "  .colab-df-quickchart {\n",
              "    background-color: var(--bg-color);\n",
              "    border: none;\n",
              "    border-radius: 50%;\n",
              "    cursor: pointer;\n",
              "    display: none;\n",
              "    fill: var(--fill-color);\n",
              "    height: 32px;\n",
              "    padding: 0;\n",
              "    width: 32px;\n",
              "  }\n",
              "\n",
              "  .colab-df-quickchart:hover {\n",
              "    background-color: var(--hover-bg-color);\n",
              "    box-shadow: 0 1px 2px rgba(60, 64, 67, 0.3), 0 1px 3px 1px rgba(60, 64, 67, 0.15);\n",
              "    fill: var(--button-hover-fill-color);\n",
              "  }\n",
              "\n",
              "  .colab-df-quickchart-complete:disabled,\n",
              "  .colab-df-quickchart-complete:disabled:hover {\n",
              "    background-color: var(--disabled-bg-color);\n",
              "    fill: var(--disabled-fill-color);\n",
              "    box-shadow: none;\n",
              "  }\n",
              "\n",
              "  .colab-df-spinner {\n",
              "    border: 2px solid var(--fill-color);\n",
              "    border-color: transparent;\n",
              "    border-bottom-color: var(--fill-color);\n",
              "    animation:\n",
              "      spin 1s steps(1) infinite;\n",
              "  }\n",
              "\n",
              "  @keyframes spin {\n",
              "    0% {\n",
              "      border-color: transparent;\n",
              "      border-bottom-color: var(--fill-color);\n",
              "      border-left-color: var(--fill-color);\n",
              "    }\n",
              "    20% {\n",
              "      border-color: transparent;\n",
              "      border-left-color: var(--fill-color);\n",
              "      border-top-color: var(--fill-color);\n",
              "    }\n",
              "    30% {\n",
              "      border-color: transparent;\n",
              "      border-left-color: var(--fill-color);\n",
              "      border-top-color: var(--fill-color);\n",
              "      border-right-color: var(--fill-color);\n",
              "    }\n",
              "    40% {\n",
              "      border-color: transparent;\n",
              "      border-right-color: var(--fill-color);\n",
              "      border-top-color: var(--fill-color);\n",
              "    }\n",
              "    60% {\n",
              "      border-color: transparent;\n",
              "      border-right-color: var(--fill-color);\n",
              "    }\n",
              "    80% {\n",
              "      border-color: transparent;\n",
              "      border-right-color: var(--fill-color);\n",
              "      border-bottom-color: var(--fill-color);\n",
              "    }\n",
              "    90% {\n",
              "      border-color: transparent;\n",
              "      border-bottom-color: var(--fill-color);\n",
              "    }\n",
              "  }\n",
              "</style>\n",
              "\n",
              "  <script>\n",
              "    async function quickchart(key) {\n",
              "      const quickchartButtonEl =\n",
              "        document.querySelector('#' + key + ' button');\n",
              "      quickchartButtonEl.disabled = true;  // To prevent multiple clicks.\n",
              "      quickchartButtonEl.classList.add('colab-df-spinner');\n",
              "      try {\n",
              "        const charts = await google.colab.kernel.invokeFunction(\n",
              "            'suggestCharts', [key], {});\n",
              "      } catch (error) {\n",
              "        console.error('Error during call to suggestCharts:', error);\n",
              "      }\n",
              "      quickchartButtonEl.classList.remove('colab-df-spinner');\n",
              "      quickchartButtonEl.classList.add('colab-df-quickchart-complete');\n",
              "    }\n",
              "    (() => {\n",
              "      let quickchartButtonEl =\n",
              "        document.querySelector('#df-0f90e682-94ed-4430-946c-7f98a663ba77 button');\n",
              "      quickchartButtonEl.style.display =\n",
              "        google.colab.kernel.accessAllowed ? 'block' : 'none';\n",
              "    })();\n",
              "  </script>\n",
              "</div>\n",
              "    </div>\n",
              "  </div>\n"
            ],
            "application/vnd.google.colaboratory.intrinsic+json": {
              "type": "dataframe",
              "summary": "{\n  \"name\": \"raw_df[['Time', 'V1', 'V2', 'V3', 'V4', 'V5', 'V26', 'V27', 'V28', 'Amount', 'Class']]\",\n  \"rows\": 8,\n  \"fields\": [\n    {\n      \"column\": \"Time\",\n      \"properties\": {\n        \"dtype\": \"number\",\n        \"std\": 88923.63361429356,\n        \"min\": 0.0,\n        \"max\": 284807.0,\n        \"num_unique_values\": 8,\n        \"samples\": [\n          94813.85957508067,\n          84692.0,\n          284807.0\n        ],\n        \"semantic_type\": \"\",\n        \"description\": \"\"\n      }\n    },\n    {\n      \"column\": \"V1\",\n      \"properties\": {\n        \"dtype\": \"number\",\n        \"std\": 100697.08771991085,\n        \"min\": -56.407509631329,\n        \"max\": 284807.0,\n        \"num_unique_values\": 8,\n        \"samples\": [\n          1.1683749838001528e-15,\n          0.0181087991615309,\n          284807.0\n        ],\n        \"semantic_type\": \"\",\n        \"description\": \"\"\n      }\n    },\n    {\n      \"column\": \"V2\",\n      \"properties\": {\n        \"dtype\": \"number\",\n        \"std\": 100696.94591374432,\n        \"min\": -72.7157275629303,\n        \"max\": 284807.0,\n        \"num_unique_values\": 8,\n        \"samples\": [\n          3.416908049651284e-16,\n          0.0654855563960555,\n          284807.0\n        ],\n        \"semantic_type\": \"\",\n        \"description\": \"\"\n      }\n    },\n    {\n      \"column\": \"V3\",\n      \"properties\": {\n        \"dtype\": \"number\",\n        \"std\": 100696.3564401747,\n        \"min\": -48.3255893623954,\n        \"max\": 284807.0,\n        \"num_unique_values\": 8,\n        \"samples\": [\n          -1.379536707896593e-15,\n          0.179846343563544,\n          284807.0\n        ],\n        \"semantic_type\": \"\",\n        \"description\": \"\"\n      }\n    },\n    {\n      \"column\": \"V4\",\n      \"properties\": {\n        \"dtype\": \"number\",\n        \"std\": 100693.85024469436,\n        \"min\": -5.68317119816995,\n        \"max\": 284807.0,\n        \"num_unique_values\": 8,\n        \"samples\": [\n          2.0740951198584196e-15,\n          -0.0198465294811989,\n          284807.0\n        ],\n        \"semantic_type\": \"\",\n        \"description\": \"\"\n      }\n    },\n    {\n      \"column\": \"V5\",\n      \"properties\": {\n        \"dtype\": \"number\",\n        \"std\": 100698.41415139876,\n        \"min\": -113.743306711146,\n        \"max\": 284807.0,\n        \"num_unique_values\": 8,\n        \"samples\": [\n          9.604066317127324e-16,\n          -0.0543358267364858,\n          284807.0\n        ],\n        \"semantic_type\": \"\",\n        \"description\": \"\"\n      }\n    },\n    {\n      \"column\": \"V26\",\n      \"properties\": {\n        \"dtype\": \"number\",\n        \"std\": 100694.41704783794,\n        \"min\": -2.60455055280817,\n        \"max\": 284807.0,\n        \"num_unique_values\": 8,\n        \"samples\": [\n          1.6834371984034178e-15,\n          -0.0521391080182019,\n          284807.0\n        ],\n        \"semantic_type\": \"\",\n        \"description\": \"\"\n      }\n    },\n    {\n      \"column\": \"V27\",\n      \"properties\": {\n        \"dtype\": \"number\",\n        \"std\": 100694.0031827918,\n        \"min\": -22.5656793207827,\n        \"max\": 284807.0,\n        \"num_unique_values\": 8,\n        \"samples\": [\n          -3.6600908126037946e-16,\n          0.0013421459786502,\n          284807.0\n        ],\n        \"semantic_type\": \"\",\n        \"description\": \"\"\n      }\n    },\n    {\n      \"column\": \"V28\",\n      \"properties\": {\n        \"dtype\": \"number\",\n        \"std\": 100693.53270660152,\n        \"min\": -15.4300839055349,\n        \"max\": 284807.0,\n        \"num_unique_values\": 8,\n        \"samples\": [\n          -1.2273899954199695e-16,\n          0.011243831564982,\n          284807.0\n        ],\n        \"semantic_type\": \"\",\n        \"description\": \"\"\n      }\n    },\n    {\n      \"column\": \"Amount\",\n      \"properties\": {\n        \"dtype\": \"number\",\n        \"std\": 99778.01856206656,\n        \"min\": 0.0,\n        \"max\": 284807.0,\n        \"num_unique_values\": 8,\n        \"samples\": [\n          88.34961925093133,\n          22.0,\n          284807.0\n        ],\n        \"semantic_type\": \"\",\n        \"description\": \"\"\n      }\n    },\n    {\n      \"column\": \"Class\",\n      \"properties\": {\n        \"dtype\": \"number\",\n        \"std\": 100694.42782298056,\n        \"min\": 0.0,\n        \"max\": 284807.0,\n        \"num_unique_values\": 5,\n        \"samples\": [\n          0.001727485630620034,\n          1.0,\n          0.04152718963546506\n        ],\n        \"semantic_type\": \"\",\n        \"description\": \"\"\n      }\n    }\n  ]\n}"
            }
          },
          "metadata": {},
          "execution_count": 4
        }
      ]
    },
    {
      "cell_type": "markdown",
      "source": [
        "# Examine the class label imbalance"
      ],
      "metadata": {
        "id": "btiVJeTQzosT"
      }
    },
    {
      "cell_type": "code",
      "source": [
        "neg, pos = np.bincount(raw_df['Class'])\n",
        "total = neg + pos\n",
        "print('Examples:\\n    Total: {}\\n    Positive: {} ({:.2f}% of total)\\n'.format(\n",
        "    total, pos, 100 * pos / total))"
      ],
      "metadata": {
        "colab": {
          "base_uri": "https://localhost:8080/"
        },
        "id": "G1w1-I-pztch",
        "outputId": "2c0fb211-7b40-4724-f561-20d4bd7d225d"
      },
      "execution_count": 5,
      "outputs": [
        {
          "output_type": "stream",
          "name": "stdout",
          "text": [
            "Examples:\n",
            "    Total: 284807\n",
            "    Positive: 492 (0.17% of total)\n",
            "\n"
          ]
        }
      ]
    },
    {
      "cell_type": "markdown",
      "source": [
        "This shows the small fraction of positive samples."
      ],
      "metadata": {
        "id": "YFCGK34T0Ign"
      }
    },
    {
      "cell_type": "markdown",
      "source": [
        "# Clean, split and normalize the data\n",
        " The raw data has a few issues. First time Time and Amount columns are too variable to use directly. Drop the Time column (since it's not clear what it means) and take the log of the Amount column to reduce its range."
      ],
      "metadata": {
        "id": "_VMedLl00aqa"
      }
    },
    {
      "cell_type": "code",
      "source": [
        "cleaned_df = raw_df.copy()\n",
        "\n",
        "# You don't want the `Time` column.\n",
        "cleaned_df.pop('Time')\n",
        "\n",
        "# The `Amount` column covers a huge range. Convert to log-space.\n",
        "eps = 0.001 # 0 => 0.1¢\n",
        "cleaned_df['Log Amount'] = np.log(cleaned_df.pop('Amount')+eps)"
      ],
      "metadata": {
        "id": "Ghe-Dwfo0DIJ"
      },
      "execution_count": 6,
      "outputs": []
    },
    {
      "cell_type": "code",
      "source": [
        "cleaned_df"
      ],
      "metadata": {
        "colab": {
          "base_uri": "https://localhost:8080/",
          "height": 424
        },
        "id": "xQxzEIY_02p6",
        "outputId": "a61bfbdb-667b-43c8-9b08-49b72184f174"
      },
      "execution_count": 7,
      "outputs": [
        {
          "output_type": "execute_result",
          "data": {
            "text/plain": [
              "               V1         V2        V3        V4        V5        V6  \\\n",
              "0       -1.359807  -0.072781  2.536347  1.378155 -0.338321  0.462388   \n",
              "1        1.191857   0.266151  0.166480  0.448154  0.060018 -0.082361   \n",
              "2       -1.358354  -1.340163  1.773209  0.379780 -0.503198  1.800499   \n",
              "3       -0.966272  -0.185226  1.792993 -0.863291 -0.010309  1.247203   \n",
              "4       -1.158233   0.877737  1.548718  0.403034 -0.407193  0.095921   \n",
              "...           ...        ...       ...       ...       ...       ...   \n",
              "284802 -11.881118  10.071785 -9.834783 -2.066656 -5.364473 -2.606837   \n",
              "284803  -0.732789  -0.055080  2.035030 -0.738589  0.868229  1.058415   \n",
              "284804   1.919565  -0.301254 -3.249640 -0.557828  2.630515  3.031260   \n",
              "284805  -0.240440   0.530483  0.702510  0.689799 -0.377961  0.623708   \n",
              "284806  -0.533413  -0.189733  0.703337 -0.506271 -0.012546 -0.649617   \n",
              "\n",
              "              V7        V8        V9       V10  ...       V21       V22  \\\n",
              "0       0.239599  0.098698  0.363787  0.090794  ... -0.018307  0.277838   \n",
              "1      -0.078803  0.085102 -0.255425 -0.166974  ... -0.225775 -0.638672   \n",
              "2       0.791461  0.247676 -1.514654  0.207643  ...  0.247998  0.771679   \n",
              "3       0.237609  0.377436 -1.387024 -0.054952  ... -0.108300  0.005274   \n",
              "4       0.592941 -0.270533  0.817739  0.753074  ... -0.009431  0.798278   \n",
              "...          ...       ...       ...       ...  ...       ...       ...   \n",
              "284802 -4.918215  7.305334  1.914428  4.356170  ...  0.213454  0.111864   \n",
              "284803  0.024330  0.294869  0.584800 -0.975926  ...  0.214205  0.924384   \n",
              "284804 -0.296827  0.708417  0.432454 -0.484782  ...  0.232045  0.578229   \n",
              "284805 -0.686180  0.679145  0.392087 -0.399126  ...  0.265245  0.800049   \n",
              "284806  1.577006 -0.414650  0.486180 -0.915427  ...  0.261057  0.643078   \n",
              "\n",
              "             V23       V24       V25       V26       V27       V28  Class  \\\n",
              "0      -0.110474  0.066928  0.128539 -0.189115  0.133558 -0.021053      0   \n",
              "1       0.101288 -0.339846  0.167170  0.125895 -0.008983  0.014724      0   \n",
              "2       0.909412 -0.689281 -0.327642 -0.139097 -0.055353 -0.059752      0   \n",
              "3      -0.190321 -1.175575  0.647376 -0.221929  0.062723  0.061458      0   \n",
              "4      -0.137458  0.141267 -0.206010  0.502292  0.219422  0.215153      0   \n",
              "...          ...       ...       ...       ...       ...       ...    ...   \n",
              "284802  1.014480 -0.509348  1.436807  0.250034  0.943651  0.823731      0   \n",
              "284803  0.012463 -1.016226 -0.606624 -0.395255  0.068472 -0.053527      0   \n",
              "284804 -0.037501  0.640134  0.265745 -0.087371  0.004455 -0.026561      0   \n",
              "284805 -0.163298  0.123205 -0.569159  0.546668  0.108821  0.104533      0   \n",
              "284806  0.376777  0.008797 -0.473649 -0.818267 -0.002415  0.013649      0   \n",
              "\n",
              "        Log Amount  \n",
              "0         5.008105  \n",
              "1         0.989913  \n",
              "2         5.936641  \n",
              "3         4.816249  \n",
              "4         4.248367  \n",
              "...            ...  \n",
              "284802   -0.260067  \n",
              "284803    3.210481  \n",
              "284804    4.217756  \n",
              "284805    2.302685  \n",
              "284806    5.379902  \n",
              "\n",
              "[284807 rows x 30 columns]"
            ],
            "text/html": [
              "\n",
              "  <div id=\"df-1c267ae4-1810-43df-a3a5-7c3a3e657ccf\" class=\"colab-df-container\">\n",
              "    <div>\n",
              "<style scoped>\n",
              "    .dataframe tbody tr th:only-of-type {\n",
              "        vertical-align: middle;\n",
              "    }\n",
              "\n",
              "    .dataframe tbody tr th {\n",
              "        vertical-align: top;\n",
              "    }\n",
              "\n",
              "    .dataframe thead th {\n",
              "        text-align: right;\n",
              "    }\n",
              "</style>\n",
              "<table border=\"1\" class=\"dataframe\">\n",
              "  <thead>\n",
              "    <tr style=\"text-align: right;\">\n",
              "      <th></th>\n",
              "      <th>V1</th>\n",
              "      <th>V2</th>\n",
              "      <th>V3</th>\n",
              "      <th>V4</th>\n",
              "      <th>V5</th>\n",
              "      <th>V6</th>\n",
              "      <th>V7</th>\n",
              "      <th>V8</th>\n",
              "      <th>V9</th>\n",
              "      <th>V10</th>\n",
              "      <th>...</th>\n",
              "      <th>V21</th>\n",
              "      <th>V22</th>\n",
              "      <th>V23</th>\n",
              "      <th>V24</th>\n",
              "      <th>V25</th>\n",
              "      <th>V26</th>\n",
              "      <th>V27</th>\n",
              "      <th>V28</th>\n",
              "      <th>Class</th>\n",
              "      <th>Log Amount</th>\n",
              "    </tr>\n",
              "  </thead>\n",
              "  <tbody>\n",
              "    <tr>\n",
              "      <th>0</th>\n",
              "      <td>-1.359807</td>\n",
              "      <td>-0.072781</td>\n",
              "      <td>2.536347</td>\n",
              "      <td>1.378155</td>\n",
              "      <td>-0.338321</td>\n",
              "      <td>0.462388</td>\n",
              "      <td>0.239599</td>\n",
              "      <td>0.098698</td>\n",
              "      <td>0.363787</td>\n",
              "      <td>0.090794</td>\n",
              "      <td>...</td>\n",
              "      <td>-0.018307</td>\n",
              "      <td>0.277838</td>\n",
              "      <td>-0.110474</td>\n",
              "      <td>0.066928</td>\n",
              "      <td>0.128539</td>\n",
              "      <td>-0.189115</td>\n",
              "      <td>0.133558</td>\n",
              "      <td>-0.021053</td>\n",
              "      <td>0</td>\n",
              "      <td>5.008105</td>\n",
              "    </tr>\n",
              "    <tr>\n",
              "      <th>1</th>\n",
              "      <td>1.191857</td>\n",
              "      <td>0.266151</td>\n",
              "      <td>0.166480</td>\n",
              "      <td>0.448154</td>\n",
              "      <td>0.060018</td>\n",
              "      <td>-0.082361</td>\n",
              "      <td>-0.078803</td>\n",
              "      <td>0.085102</td>\n",
              "      <td>-0.255425</td>\n",
              "      <td>-0.166974</td>\n",
              "      <td>...</td>\n",
              "      <td>-0.225775</td>\n",
              "      <td>-0.638672</td>\n",
              "      <td>0.101288</td>\n",
              "      <td>-0.339846</td>\n",
              "      <td>0.167170</td>\n",
              "      <td>0.125895</td>\n",
              "      <td>-0.008983</td>\n",
              "      <td>0.014724</td>\n",
              "      <td>0</td>\n",
              "      <td>0.989913</td>\n",
              "    </tr>\n",
              "    <tr>\n",
              "      <th>2</th>\n",
              "      <td>-1.358354</td>\n",
              "      <td>-1.340163</td>\n",
              "      <td>1.773209</td>\n",
              "      <td>0.379780</td>\n",
              "      <td>-0.503198</td>\n",
              "      <td>1.800499</td>\n",
              "      <td>0.791461</td>\n",
              "      <td>0.247676</td>\n",
              "      <td>-1.514654</td>\n",
              "      <td>0.207643</td>\n",
              "      <td>...</td>\n",
              "      <td>0.247998</td>\n",
              "      <td>0.771679</td>\n",
              "      <td>0.909412</td>\n",
              "      <td>-0.689281</td>\n",
              "      <td>-0.327642</td>\n",
              "      <td>-0.139097</td>\n",
              "      <td>-0.055353</td>\n",
              "      <td>-0.059752</td>\n",
              "      <td>0</td>\n",
              "      <td>5.936641</td>\n",
              "    </tr>\n",
              "    <tr>\n",
              "      <th>3</th>\n",
              "      <td>-0.966272</td>\n",
              "      <td>-0.185226</td>\n",
              "      <td>1.792993</td>\n",
              "      <td>-0.863291</td>\n",
              "      <td>-0.010309</td>\n",
              "      <td>1.247203</td>\n",
              "      <td>0.237609</td>\n",
              "      <td>0.377436</td>\n",
              "      <td>-1.387024</td>\n",
              "      <td>-0.054952</td>\n",
              "      <td>...</td>\n",
              "      <td>-0.108300</td>\n",
              "      <td>0.005274</td>\n",
              "      <td>-0.190321</td>\n",
              "      <td>-1.175575</td>\n",
              "      <td>0.647376</td>\n",
              "      <td>-0.221929</td>\n",
              "      <td>0.062723</td>\n",
              "      <td>0.061458</td>\n",
              "      <td>0</td>\n",
              "      <td>4.816249</td>\n",
              "    </tr>\n",
              "    <tr>\n",
              "      <th>4</th>\n",
              "      <td>-1.158233</td>\n",
              "      <td>0.877737</td>\n",
              "      <td>1.548718</td>\n",
              "      <td>0.403034</td>\n",
              "      <td>-0.407193</td>\n",
              "      <td>0.095921</td>\n",
              "      <td>0.592941</td>\n",
              "      <td>-0.270533</td>\n",
              "      <td>0.817739</td>\n",
              "      <td>0.753074</td>\n",
              "      <td>...</td>\n",
              "      <td>-0.009431</td>\n",
              "      <td>0.798278</td>\n",
              "      <td>-0.137458</td>\n",
              "      <td>0.141267</td>\n",
              "      <td>-0.206010</td>\n",
              "      <td>0.502292</td>\n",
              "      <td>0.219422</td>\n",
              "      <td>0.215153</td>\n",
              "      <td>0</td>\n",
              "      <td>4.248367</td>\n",
              "    </tr>\n",
              "    <tr>\n",
              "      <th>...</th>\n",
              "      <td>...</td>\n",
              "      <td>...</td>\n",
              "      <td>...</td>\n",
              "      <td>...</td>\n",
              "      <td>...</td>\n",
              "      <td>...</td>\n",
              "      <td>...</td>\n",
              "      <td>...</td>\n",
              "      <td>...</td>\n",
              "      <td>...</td>\n",
              "      <td>...</td>\n",
              "      <td>...</td>\n",
              "      <td>...</td>\n",
              "      <td>...</td>\n",
              "      <td>...</td>\n",
              "      <td>...</td>\n",
              "      <td>...</td>\n",
              "      <td>...</td>\n",
              "      <td>...</td>\n",
              "      <td>...</td>\n",
              "      <td>...</td>\n",
              "    </tr>\n",
              "    <tr>\n",
              "      <th>284802</th>\n",
              "      <td>-11.881118</td>\n",
              "      <td>10.071785</td>\n",
              "      <td>-9.834783</td>\n",
              "      <td>-2.066656</td>\n",
              "      <td>-5.364473</td>\n",
              "      <td>-2.606837</td>\n",
              "      <td>-4.918215</td>\n",
              "      <td>7.305334</td>\n",
              "      <td>1.914428</td>\n",
              "      <td>4.356170</td>\n",
              "      <td>...</td>\n",
              "      <td>0.213454</td>\n",
              "      <td>0.111864</td>\n",
              "      <td>1.014480</td>\n",
              "      <td>-0.509348</td>\n",
              "      <td>1.436807</td>\n",
              "      <td>0.250034</td>\n",
              "      <td>0.943651</td>\n",
              "      <td>0.823731</td>\n",
              "      <td>0</td>\n",
              "      <td>-0.260067</td>\n",
              "    </tr>\n",
              "    <tr>\n",
              "      <th>284803</th>\n",
              "      <td>-0.732789</td>\n",
              "      <td>-0.055080</td>\n",
              "      <td>2.035030</td>\n",
              "      <td>-0.738589</td>\n",
              "      <td>0.868229</td>\n",
              "      <td>1.058415</td>\n",
              "      <td>0.024330</td>\n",
              "      <td>0.294869</td>\n",
              "      <td>0.584800</td>\n",
              "      <td>-0.975926</td>\n",
              "      <td>...</td>\n",
              "      <td>0.214205</td>\n",
              "      <td>0.924384</td>\n",
              "      <td>0.012463</td>\n",
              "      <td>-1.016226</td>\n",
              "      <td>-0.606624</td>\n",
              "      <td>-0.395255</td>\n",
              "      <td>0.068472</td>\n",
              "      <td>-0.053527</td>\n",
              "      <td>0</td>\n",
              "      <td>3.210481</td>\n",
              "    </tr>\n",
              "    <tr>\n",
              "      <th>284804</th>\n",
              "      <td>1.919565</td>\n",
              "      <td>-0.301254</td>\n",
              "      <td>-3.249640</td>\n",
              "      <td>-0.557828</td>\n",
              "      <td>2.630515</td>\n",
              "      <td>3.031260</td>\n",
              "      <td>-0.296827</td>\n",
              "      <td>0.708417</td>\n",
              "      <td>0.432454</td>\n",
              "      <td>-0.484782</td>\n",
              "      <td>...</td>\n",
              "      <td>0.232045</td>\n",
              "      <td>0.578229</td>\n",
              "      <td>-0.037501</td>\n",
              "      <td>0.640134</td>\n",
              "      <td>0.265745</td>\n",
              "      <td>-0.087371</td>\n",
              "      <td>0.004455</td>\n",
              "      <td>-0.026561</td>\n",
              "      <td>0</td>\n",
              "      <td>4.217756</td>\n",
              "    </tr>\n",
              "    <tr>\n",
              "      <th>284805</th>\n",
              "      <td>-0.240440</td>\n",
              "      <td>0.530483</td>\n",
              "      <td>0.702510</td>\n",
              "      <td>0.689799</td>\n",
              "      <td>-0.377961</td>\n",
              "      <td>0.623708</td>\n",
              "      <td>-0.686180</td>\n",
              "      <td>0.679145</td>\n",
              "      <td>0.392087</td>\n",
              "      <td>-0.399126</td>\n",
              "      <td>...</td>\n",
              "      <td>0.265245</td>\n",
              "      <td>0.800049</td>\n",
              "      <td>-0.163298</td>\n",
              "      <td>0.123205</td>\n",
              "      <td>-0.569159</td>\n",
              "      <td>0.546668</td>\n",
              "      <td>0.108821</td>\n",
              "      <td>0.104533</td>\n",
              "      <td>0</td>\n",
              "      <td>2.302685</td>\n",
              "    </tr>\n",
              "    <tr>\n",
              "      <th>284806</th>\n",
              "      <td>-0.533413</td>\n",
              "      <td>-0.189733</td>\n",
              "      <td>0.703337</td>\n",
              "      <td>-0.506271</td>\n",
              "      <td>-0.012546</td>\n",
              "      <td>-0.649617</td>\n",
              "      <td>1.577006</td>\n",
              "      <td>-0.414650</td>\n",
              "      <td>0.486180</td>\n",
              "      <td>-0.915427</td>\n",
              "      <td>...</td>\n",
              "      <td>0.261057</td>\n",
              "      <td>0.643078</td>\n",
              "      <td>0.376777</td>\n",
              "      <td>0.008797</td>\n",
              "      <td>-0.473649</td>\n",
              "      <td>-0.818267</td>\n",
              "      <td>-0.002415</td>\n",
              "      <td>0.013649</td>\n",
              "      <td>0</td>\n",
              "      <td>5.379902</td>\n",
              "    </tr>\n",
              "  </tbody>\n",
              "</table>\n",
              "<p>284807 rows × 30 columns</p>\n",
              "</div>\n",
              "    <div class=\"colab-df-buttons\">\n",
              "\n",
              "  <div class=\"colab-df-container\">\n",
              "    <button class=\"colab-df-convert\" onclick=\"convertToInteractive('df-1c267ae4-1810-43df-a3a5-7c3a3e657ccf')\"\n",
              "            title=\"Convert this dataframe to an interactive table.\"\n",
              "            style=\"display:none;\">\n",
              "\n",
              "  <svg xmlns=\"http://www.w3.org/2000/svg\" height=\"24px\" viewBox=\"0 -960 960 960\">\n",
              "    <path d=\"M120-120v-720h720v720H120Zm60-500h600v-160H180v160Zm220 220h160v-160H400v160Zm0 220h160v-160H400v160ZM180-400h160v-160H180v160Zm440 0h160v-160H620v160ZM180-180h160v-160H180v160Zm440 0h160v-160H620v160Z\"/>\n",
              "  </svg>\n",
              "    </button>\n",
              "\n",
              "  <style>\n",
              "    .colab-df-container {\n",
              "      display:flex;\n",
              "      gap: 12px;\n",
              "    }\n",
              "\n",
              "    .colab-df-convert {\n",
              "      background-color: #E8F0FE;\n",
              "      border: none;\n",
              "      border-radius: 50%;\n",
              "      cursor: pointer;\n",
              "      display: none;\n",
              "      fill: #1967D2;\n",
              "      height: 32px;\n",
              "      padding: 0 0 0 0;\n",
              "      width: 32px;\n",
              "    }\n",
              "\n",
              "    .colab-df-convert:hover {\n",
              "      background-color: #E2EBFA;\n",
              "      box-shadow: 0px 1px 2px rgba(60, 64, 67, 0.3), 0px 1px 3px 1px rgba(60, 64, 67, 0.15);\n",
              "      fill: #174EA6;\n",
              "    }\n",
              "\n",
              "    .colab-df-buttons div {\n",
              "      margin-bottom: 4px;\n",
              "    }\n",
              "\n",
              "    [theme=dark] .colab-df-convert {\n",
              "      background-color: #3B4455;\n",
              "      fill: #D2E3FC;\n",
              "    }\n",
              "\n",
              "    [theme=dark] .colab-df-convert:hover {\n",
              "      background-color: #434B5C;\n",
              "      box-shadow: 0px 1px 3px 1px rgba(0, 0, 0, 0.15);\n",
              "      filter: drop-shadow(0px 1px 2px rgba(0, 0, 0, 0.3));\n",
              "      fill: #FFFFFF;\n",
              "    }\n",
              "  </style>\n",
              "\n",
              "    <script>\n",
              "      const buttonEl =\n",
              "        document.querySelector('#df-1c267ae4-1810-43df-a3a5-7c3a3e657ccf button.colab-df-convert');\n",
              "      buttonEl.style.display =\n",
              "        google.colab.kernel.accessAllowed ? 'block' : 'none';\n",
              "\n",
              "      async function convertToInteractive(key) {\n",
              "        const element = document.querySelector('#df-1c267ae4-1810-43df-a3a5-7c3a3e657ccf');\n",
              "        const dataTable =\n",
              "          await google.colab.kernel.invokeFunction('convertToInteractive',\n",
              "                                                    [key], {});\n",
              "        if (!dataTable) return;\n",
              "\n",
              "        const docLinkHtml = 'Like what you see? Visit the ' +\n",
              "          '<a target=\"_blank\" href=https://colab.research.google.com/notebooks/data_table.ipynb>data table notebook</a>'\n",
              "          + ' to learn more about interactive tables.';\n",
              "        element.innerHTML = '';\n",
              "        dataTable['output_type'] = 'display_data';\n",
              "        await google.colab.output.renderOutput(dataTable, element);\n",
              "        const docLink = document.createElement('div');\n",
              "        docLink.innerHTML = docLinkHtml;\n",
              "        element.appendChild(docLink);\n",
              "      }\n",
              "    </script>\n",
              "  </div>\n",
              "\n",
              "\n",
              "<div id=\"df-a38261ad-1dab-4c1f-a0bb-2b864fc7131a\">\n",
              "  <button class=\"colab-df-quickchart\" onclick=\"quickchart('df-a38261ad-1dab-4c1f-a0bb-2b864fc7131a')\"\n",
              "            title=\"Suggest charts\"\n",
              "            style=\"display:none;\">\n",
              "\n",
              "<svg xmlns=\"http://www.w3.org/2000/svg\" height=\"24px\"viewBox=\"0 0 24 24\"\n",
              "     width=\"24px\">\n",
              "    <g>\n",
              "        <path d=\"M19 3H5c-1.1 0-2 .9-2 2v14c0 1.1.9 2 2 2h14c1.1 0 2-.9 2-2V5c0-1.1-.9-2-2-2zM9 17H7v-7h2v7zm4 0h-2V7h2v10zm4 0h-2v-4h2v4z\"/>\n",
              "    </g>\n",
              "</svg>\n",
              "  </button>\n",
              "\n",
              "<style>\n",
              "  .colab-df-quickchart {\n",
              "      --bg-color: #E8F0FE;\n",
              "      --fill-color: #1967D2;\n",
              "      --hover-bg-color: #E2EBFA;\n",
              "      --hover-fill-color: #174EA6;\n",
              "      --disabled-fill-color: #AAA;\n",
              "      --disabled-bg-color: #DDD;\n",
              "  }\n",
              "\n",
              "  [theme=dark] .colab-df-quickchart {\n",
              "      --bg-color: #3B4455;\n",
              "      --fill-color: #D2E3FC;\n",
              "      --hover-bg-color: #434B5C;\n",
              "      --hover-fill-color: #FFFFFF;\n",
              "      --disabled-bg-color: #3B4455;\n",
              "      --disabled-fill-color: #666;\n",
              "  }\n",
              "\n",
              "  .colab-df-quickchart {\n",
              "    background-color: var(--bg-color);\n",
              "    border: none;\n",
              "    border-radius: 50%;\n",
              "    cursor: pointer;\n",
              "    display: none;\n",
              "    fill: var(--fill-color);\n",
              "    height: 32px;\n",
              "    padding: 0;\n",
              "    width: 32px;\n",
              "  }\n",
              "\n",
              "  .colab-df-quickchart:hover {\n",
              "    background-color: var(--hover-bg-color);\n",
              "    box-shadow: 0 1px 2px rgba(60, 64, 67, 0.3), 0 1px 3px 1px rgba(60, 64, 67, 0.15);\n",
              "    fill: var(--button-hover-fill-color);\n",
              "  }\n",
              "\n",
              "  .colab-df-quickchart-complete:disabled,\n",
              "  .colab-df-quickchart-complete:disabled:hover {\n",
              "    background-color: var(--disabled-bg-color);\n",
              "    fill: var(--disabled-fill-color);\n",
              "    box-shadow: none;\n",
              "  }\n",
              "\n",
              "  .colab-df-spinner {\n",
              "    border: 2px solid var(--fill-color);\n",
              "    border-color: transparent;\n",
              "    border-bottom-color: var(--fill-color);\n",
              "    animation:\n",
              "      spin 1s steps(1) infinite;\n",
              "  }\n",
              "\n",
              "  @keyframes spin {\n",
              "    0% {\n",
              "      border-color: transparent;\n",
              "      border-bottom-color: var(--fill-color);\n",
              "      border-left-color: var(--fill-color);\n",
              "    }\n",
              "    20% {\n",
              "      border-color: transparent;\n",
              "      border-left-color: var(--fill-color);\n",
              "      border-top-color: var(--fill-color);\n",
              "    }\n",
              "    30% {\n",
              "      border-color: transparent;\n",
              "      border-left-color: var(--fill-color);\n",
              "      border-top-color: var(--fill-color);\n",
              "      border-right-color: var(--fill-color);\n",
              "    }\n",
              "    40% {\n",
              "      border-color: transparent;\n",
              "      border-right-color: var(--fill-color);\n",
              "      border-top-color: var(--fill-color);\n",
              "    }\n",
              "    60% {\n",
              "      border-color: transparent;\n",
              "      border-right-color: var(--fill-color);\n",
              "    }\n",
              "    80% {\n",
              "      border-color: transparent;\n",
              "      border-right-color: var(--fill-color);\n",
              "      border-bottom-color: var(--fill-color);\n",
              "    }\n",
              "    90% {\n",
              "      border-color: transparent;\n",
              "      border-bottom-color: var(--fill-color);\n",
              "    }\n",
              "  }\n",
              "</style>\n",
              "\n",
              "  <script>\n",
              "    async function quickchart(key) {\n",
              "      const quickchartButtonEl =\n",
              "        document.querySelector('#' + key + ' button');\n",
              "      quickchartButtonEl.disabled = true;  // To prevent multiple clicks.\n",
              "      quickchartButtonEl.classList.add('colab-df-spinner');\n",
              "      try {\n",
              "        const charts = await google.colab.kernel.invokeFunction(\n",
              "            'suggestCharts', [key], {});\n",
              "      } catch (error) {\n",
              "        console.error('Error during call to suggestCharts:', error);\n",
              "      }\n",
              "      quickchartButtonEl.classList.remove('colab-df-spinner');\n",
              "      quickchartButtonEl.classList.add('colab-df-quickchart-complete');\n",
              "    }\n",
              "    (() => {\n",
              "      let quickchartButtonEl =\n",
              "        document.querySelector('#df-a38261ad-1dab-4c1f-a0bb-2b864fc7131a button');\n",
              "      quickchartButtonEl.style.display =\n",
              "        google.colab.kernel.accessAllowed ? 'block' : 'none';\n",
              "    })();\n",
              "  </script>\n",
              "</div>\n",
              "    </div>\n",
              "  </div>\n"
            ],
            "application/vnd.google.colaboratory.intrinsic+json": {
              "type": "dataframe",
              "variable_name": "cleaned_df"
            }
          },
          "metadata": {},
          "execution_count": 7
        }
      ]
    },
    {
      "cell_type": "markdown",
      "source": [
        "Split the dataset into train, validation, and test sets. The validation set is used during the model fitting to evaluate the loss and any metrics, however the model is not fit with this data. The test set is completely unsused during the training phase and is only used at the end to evaluate how well the model generalizes to new data. This is especially important with imblanced dataset where overfitting is a significant concern from the lack of training data."
      ],
      "metadata": {
        "id": "cUcFXr2U1gSa"
      }
    },
    {
      "cell_type": "code",
      "source": [
        "# Use a utility from sklearn to split and shuffle your dataset.\n",
        "train_df, test_df = train_test_split(cleaned_df, test_size=0.2)\n",
        "train_df, val_df = train_test_split(train_df, test_size=0.2)\n",
        "\n",
        "# Form np arrays of labels and features.\n",
        "train_labels = np.array(train_df.pop('Class'))\n",
        "bool_train_labels = train_labels != 0\n",
        "val_labels = np.array(val_df.pop('Class'))\n",
        "test_labels = np.array(test_df.pop('Class'))\n",
        "\n",
        "train_features = np.array(train_df)\n",
        "val_features = np.array(val_df)\n",
        "test_features = np.array(test_df)"
      ],
      "metadata": {
        "id": "l48zU7gC1-4j"
      },
      "execution_count": 8,
      "outputs": []
    },
    {
      "cell_type": "markdown",
      "source": [
        "\n",
        "We check whether the distribution of the classes in the three sets is about the same or not.\n",
        "\n"
      ],
      "metadata": {
        "id": "_AleF8PO2koT"
      }
    },
    {
      "cell_type": "code",
      "source": [
        "print(f'Average class probability in training set:   {train_labels.mean():.4f}')\n",
        "print(f'Average class probability in validation set: {val_labels.mean():.4f}')\n",
        "print(f'Average class probability in test set:       {test_labels.mean():.4f}')"
      ],
      "metadata": {
        "colab": {
          "base_uri": "https://localhost:8080/"
        },
        "id": "_cqxrdMe2sXI",
        "outputId": "67e4d46a-86f2-4758-e208-2098f4617ac1"
      },
      "execution_count": 9,
      "outputs": [
        {
          "output_type": "stream",
          "name": "stdout",
          "text": [
            "Average class probability in training set:   0.0017\n",
            "Average class probability in validation set: 0.0018\n",
            "Average class probability in test set:       0.0018\n"
          ]
        }
      ]
    },
    {
      "cell_type": "code",
      "source": [
        "scaler = StandardScaler()\n",
        "train_features = scaler.fit_transform(train_features)\n",
        "\n",
        "val_features = scaler.transform(val_features)\n",
        "test_features = scaler.transform(test_features)\n",
        "\n",
        "train_features = np.clip(train_features, -5, 5)\n",
        "val_features = np.clip(val_features, -5, 5)\n",
        "test_features = np.clip(test_features, -5, 5)\n",
        "\n",
        "\n",
        "print('Training labels shape:', train_labels.shape)\n",
        "print('Validation labels shape:', val_labels.shape)\n",
        "print('Test labels shape:', test_labels.shape)\n",
        "\n",
        "print('Training features shape:', train_features.shape)\n",
        "print('Validation features shape:', val_features.shape)\n",
        "print('Test features shape:', test_features.shape)"
      ],
      "metadata": {
        "colab": {
          "base_uri": "https://localhost:8080/"
        },
        "id": "oITXImGw2_lh",
        "outputId": "78fae4e2-e457-45a4-de31-1e39f7f03494"
      },
      "execution_count": 10,
      "outputs": [
        {
          "output_type": "stream",
          "name": "stdout",
          "text": [
            "Training labels shape: (182276,)\n",
            "Validation labels shape: (45569,)\n",
            "Test labels shape: (56962,)\n",
            "Training features shape: (182276, 29)\n",
            "Validation features shape: (45569, 29)\n",
            "Test features shape: (56962, 29)\n"
          ]
        }
      ]
    },
    {
      "cell_type": "markdown",
      "source": [
        "# Look at the Data Distribution"
      ],
      "metadata": {
        "id": "NRgYsSNe3Lux"
      }
    },
    {
      "cell_type": "markdown",
      "source": [
        "Next Compare the distribution of the positive and negative examples over a few features. Good questions to ask yourself at this point are:\n",
        "\n",
        "\n",
        "*   Do these distribution make sense? Answer: Yes, You've normalized the input and these are mostly concentrated in the +/- 2 range\n",
        "*   Can you see the difference between the distributions? Answer: Yes the postive examples contain a much higher rate of extreme values\n",
        "\n"
      ],
      "metadata": {
        "id": "Evj_2p6K3Y9Q"
      }
    },
    {
      "cell_type": "code",
      "source": [
        "pos_df = pd.DataFrame(train_features[ bool_train_labels], columns=train_df.columns)\n",
        "neg_df = pd.DataFrame(train_features[~bool_train_labels], columns=train_df.columns)\n",
        "\n",
        "sns.jointplot(x=pos_df['V5'], y=pos_df['V6'],\n",
        "              kind='hex', xlim=(-5,5), ylim=(-5,5))\n",
        "plt.suptitle(\"Positive distribution\")\n",
        "\n",
        "sns.jointplot(x=neg_df['V5'], y=neg_df['V6'],\n",
        "              kind='hex', xlim=(-5,5), ylim=(-5,5))\n",
        "_ = plt.suptitle(\"Negative distribution\")"
      ],
      "metadata": {
        "colab": {
          "base_uri": "https://localhost:8080/",
          "height": 1000
        },
        "id": "xwNv_XPp3R7M",
        "outputId": "957dc48c-e19b-4c64-c8cb-2a97496cba6f"
      },
      "execution_count": 11,
      "outputs": [
        {
          "output_type": "display_data",
          "data": {
            "text/plain": [
              "<Figure size 600x600 with 3 Axes>"
            ],
            "image/png": "[encoded data removed]"
          },
          "metadata": {}
        },
        {
          "output_type": "display_data",
          "data": {
            "text/plain": [
              "<Figure size 600x600 with 3 Axes>"
            ],
            "image/png": "[encoded data removed]"
          },
          "metadata": {}
        }
      ]
    },
    {
      "cell_type": "markdown",
      "source": [
        "# Define the Model and Metrics"
      ],
      "metadata": {
        "id": "W6d_9Cn14tT5"
      }
    },
    {
      "cell_type": "markdown",
      "source": [
        "Define a function that creates a simple neural network with a densly connected hidden layer, a dropout layer to reduce overfitting, and and output sigmoid layer that returns the probability of a transaction being fradulent."
      ],
      "metadata": {
        "id": "uYYHX5dz46tW"
      }
    },
    {
      "cell_type": "code",
      "source": [
        "METRICS = [\n",
        "      keras.metrics.BinaryCrossentropy(name='cross entropy'),  # same as model's loss\n",
        "      keras.metrics.MeanSquaredError(name='Brier score'),\n",
        "      keras.metrics.TruePositives(name='tp'),\n",
        "      keras.metrics.FalsePositives(name='fp'),\n",
        "      keras.metrics.TrueNegatives(name='tn'),\n",
        "      keras.metrics.FalseNegatives(name='fn'),\n",
        "      keras.metrics.BinaryAccuracy(name='accuracy'),\n",
        "      keras.metrics.Precision(name='precision'),\n",
        "      keras.metrics.Recall(name='recall'),\n",
        "      keras.metrics.AUC(name='auc'),\n",
        "      keras.metrics.AUC(name='prc', curve='PR'), # precision-recall curve\n",
        "]\n",
        "\n",
        "def make_model(metrics=METRICS, output_bias=None):\n",
        "  if output_bias is not None:\n",
        "    output_bias = tf.keras.initializers.Constant(output_bias)\n",
        "  model = keras.Sequential([\n",
        "      keras.layers.Dense(\n",
        "          16, activation='relu',\n",
        "          input_shape=(train_features.shape[-1],)),\n",
        "      keras.layers.Dropout(0.5),\n",
        "      keras.layers.Dense(1, activation='sigmoid',\n",
        "                         bias_initializer=output_bias),\n",
        "  ])\n",
        "\n",
        "  model.compile(\n",
        "      optimizer=keras.optimizers.Adam(learning_rate=1e-3),\n",
        "      loss=keras.losses.BinaryCrossentropy(),\n",
        "      metrics=metrics)\n",
        "\n",
        "  return model"
      ],
      "metadata": {
        "id": "E-4cZaYU45-I"
      },
      "execution_count": 12,
      "outputs": []
    },
    {
      "cell_type": "markdown",
      "source": [
        "# Understanding Useful metrics"
      ],
      "metadata": {
        "id": "EtC-tEei7zmJ"
      }
    },
    {
      "cell_type": "markdown",
      "source": [
        "Notice that there are a few metrics defined above can be computed by the model that will be helpful when evaluating the performance. These can be divided into three groups."
      ],
      "metadata": {
        "id": "5pcTAKTT8A8N"
      }
    },
    {
      "cell_type": "markdown",
      "source": [
        "**Metrics for probability predictions**"
      ],
      "metadata": {
        "id": "l3Ak7oq18N9Q"
      }
    },
    {
      "cell_type": "markdown",
      "source": [
        "As we train our network with the cross entropy as a loss function, it is fully capable of predicting class probabilities, i.e. it is a probabilistic classifer. Good metrics to assess probabilistic predictions are, in fact, proper scoring rules. Their key property is that predicting the true probability is optimal. We give two well-known examples:\n",
        "\n",
        "\n",
        "*   **Cross entropy** also known as log loss\n",
        "*   **Mean squared error** also known as the Brier score.\n",
        "\n"
      ],
      "metadata": {
        "id": "YOCzwnkQ8TZT"
      }
    },
    {
      "cell_type": "markdown",
      "source": [
        "**Metrics for determinstic 0/1 predictions**"
      ],
      "metadata": {
        "id": "PWf_W4rg89rV"
      }
    },
    {
      "cell_type": "markdown",
      "source": [
        "In the end, one often wants to predict label, 0 or 1, no fraud or fraud. This is called a deterministic classifer. To get a label prediction from our probabilistic classifier, one needs to choose a probability threshold t. The default is to predict label 1 (fraud) if the predicted probability is larger than t= 50% and all the following metrics implicitly use this default.\n",
        "\n",
        "\n",
        "*   False negative and false positive are samples that were inccorrectly classified\n",
        "*   True Negative and true positive are samples that were correctly classified.\n",
        "\n"
      ],
      "metadata": {
        "id": "1oh2Tnan9HfU"
      }
    },
    {
      "cell_type": "code",
      "source": [
        "EPOCHS = 100\n",
        "BATCH_SIZE = 2048\n",
        "\n",
        "early_stopping = tf.keras.callbacks.EarlyStopping(\n",
        "    monitor='val_prc',\n",
        "    verbose=1,\n",
        "    patience=10,\n",
        "    mode='max',\n",
        "    restore_best_weights=True)"
      ],
      "metadata": {
        "id": "m8l2bbA59GxF"
      },
      "execution_count": 13,
      "outputs": []
    },
    {
      "cell_type": "code",
      "source": [
        "model = make_model()\n",
        "model.summary()"
      ],
      "metadata": {
        "colab": {
          "base_uri": "https://localhost:8080/"
        },
        "id": "ZmQviV1p8ANP",
        "outputId": "0b73673d-8e31-41ed-903c-a165d57e1921"
      },
      "execution_count": 14,
      "outputs": [
        {
          "output_type": "stream",
          "name": "stdout",
          "text": [
            "Model: \"sequential\"\n",
            "_________________________________________________________________\n",
            " Layer (type)                Output Shape              Param #   \n",
            "=================================================================\n",
            " dense (Dense)               (None, 16)                480       \n",
            "                                                                 \n",
            " dropout (Dropout)           (None, 16)                0         \n",
            "                                                                 \n",
            " dense_1 (Dense)             (None, 1)                 17        \n",
            "                                                                 \n",
            "=================================================================\n",
            "Total params: 497 (1.94 KB)\n",
            "Trainable params: 497 (1.94 KB)\n",
            "Non-trainable params: 0 (0.00 Byte)\n",
            "_________________________________________________________________\n"
          ]
        }
      ]
    },
    {
      "cell_type": "code",
      "source": [
        "model.predict(train_features[:10])"
      ],
      "metadata": {
        "colab": {
          "base_uri": "https://localhost:8080/"
        },
        "id": "P8RFZ6BF74cz",
        "outputId": "80fb91fb-a70e-4f4f-b5a3-ffab5c61eb19"
      },
      "execution_count": 15,
      "outputs": [
        {
          "output_type": "stream",
          "name": "stdout",
          "text": [
            "1/1 [==============================] - 0s 398ms/step\n"
          ]
        },
        {
          "output_type": "execute_result",
          "data": {
            "text/plain": [
              "array([[0.05938672],\n",
              "       [0.26720205],\n",
              "       [0.08393823],\n",
              "       [0.13018371],\n",
              "       [0.30661032],\n",
              "       [0.14341225],\n",
              "       [0.39803737],\n",
              "       [0.25077322],\n",
              "       [0.06834439],\n",
              "       [0.05675581]], dtype=float32)"
            ]
          },
          "metadata": {},
          "execution_count": 15
        }
      ]
    },
    {
      "cell_type": "markdown",
      "source": [
        "# Optional: Set the correct initial bias."
      ],
      "metadata": {
        "id": "lKun0jnO-8JC"
      }
    },
    {
      "cell_type": "markdown",
      "source": [
        "These initial guesses are not great. You know the dataset is imbalanced. Set the output layer's bias to reflect that, see A Recipe for Training Neural Networks: \"init well\". This can help with initial convergence.\n",
        "\n",
        "With the default bias initialization the loss should be about math.log(2) = 0.69314"
      ],
      "metadata": {
        "id": "6tzP4bg2_H9W"
      }
    },
    {
      "cell_type": "code",
      "source": [
        "results = model.evaluate(train_features, train_labels, batch_size=BATCH_SIZE, verbose=0)\n",
        "print(\"Loss: {:0.4f}\".format(results[0]))"
      ],
      "metadata": {
        "colab": {
          "base_uri": "https://localhost:8080/"
        },
        "id": "12BbNUsy-7dC",
        "outputId": "eab0e2e0-628c-467d-c5ce-645cfd8f10d8"
      },
      "execution_count": 16,
      "outputs": [
        {
          "output_type": "stream",
          "name": "stdout",
          "text": [
            "Loss: 0.1977\n"
          ]
        }
      ]
    },
    {
      "cell_type": "code",
      "source": [
        "initial_bias = np.log([pos/neg])\n",
        "initial_bias"
      ],
      "metadata": {
        "colab": {
          "base_uri": "https://localhost:8080/"
        },
        "id": "9BYfALAf7wPy",
        "outputId": "549c7855-3459-42e1-de53-fa405bdeca2f"
      },
      "execution_count": 17,
      "outputs": [
        {
          "output_type": "execute_result",
          "data": {
            "text/plain": [
              "array([-6.35935934])"
            ]
          },
          "metadata": {},
          "execution_count": 17
        }
      ]
    },
    {
      "cell_type": "code",
      "source": [
        "model = make_model(output_bias=initial_bias)\n",
        "model.predict(train_features[:10])"
      ],
      "metadata": {
        "colab": {
          "base_uri": "https://localhost:8080/"
        },
        "id": "T4uSuvu540ha",
        "outputId": "cce3cb02-46e7-4ce1-fb2c-50b7bdc290bb"
      },
      "execution_count": 18,
      "outputs": [
        {
          "output_type": "stream",
          "name": "stdout",
          "text": [
            "1/1 [==============================] - 0s 123ms/step\n"
          ]
        },
        {
          "output_type": "execute_result",
          "data": {
            "text/plain": [
              "array([[1.6531636e-04],\n",
              "       [8.5271819e-04],\n",
              "       [2.9488152e-04],\n",
              "       [1.2488188e-03],\n",
              "       [1.7786751e-03],\n",
              "       [3.8226804e-04],\n",
              "       [3.8431736e-04],\n",
              "       [6.8090652e-05],\n",
              "       [3.7975708e-04],\n",
              "       [4.2597996e-04]], dtype=float32)"
            ]
          },
          "metadata": {},
          "execution_count": 18
        }
      ]
    },
    {
      "cell_type": "code",
      "source": [
        "results = model.evaluate(train_features, train_labels, batch_size=BATCH_SIZE, verbose=0)\n",
        "print(\"Loss: {:0.4f}\".format(results[0]))"
      ],
      "metadata": {
        "colab": {
          "base_uri": "https://localhost:8080/"
        },
        "id": "jCAz1H4d4sem",
        "outputId": "43caf770-1925-4d93-b75e-011467d4285e"
      },
      "execution_count": 19,
      "outputs": [
        {
          "output_type": "stream",
          "name": "stdout",
          "text": [
            "Loss: 0.0132\n"
          ]
        }
      ]
    },
    {
      "cell_type": "markdown",
      "source": [
        "# Checkpoint the initial weights"
      ],
      "metadata": {
        "id": "8W8vIaex_k0y"
      }
    },
    {
      "cell_type": "markdown",
      "source": [
        "To make the various training runs more comparable, keep this initial model's weights in a checkpoint file, and load them into each model before training:"
      ],
      "metadata": {
        "id": "SaJEOAN2_r6b"
      }
    },
    {
      "cell_type": "code",
      "source": [
        "initial_weights = os.path.join(tempfile.mkdtemp(), 'initial_weights')\n",
        "model.save_weights(initial_weights)"
      ],
      "metadata": {
        "id": "HtjlhsNf_jnl"
      },
      "execution_count": 20,
      "outputs": []
    },
    {
      "cell_type": "markdown",
      "source": [
        "# Confirm that the bias fix helps"
      ],
      "metadata": {
        "id": "moLHAWFk_7t2"
      }
    },
    {
      "cell_type": "code",
      "source": [
        "model = make_model()\n",
        "model.load_weights(initial_weights)\n",
        "model.layers[-1].bias.assign([0.0])\n",
        "zero_bias_history = model.fit(\n",
        "    train_features,\n",
        "    train_labels,\n",
        "    batch_size=BATCH_SIZE,\n",
        "    epochs=20,\n",
        "    validation_data=(val_features, val_labels),\n",
        "    verbose=0)"
      ],
      "metadata": {
        "id": "-XgpodRT_65n"
      },
      "execution_count": 21,
      "outputs": []
    },
    {
      "cell_type": "code",
      "source": [
        "model = make_model()\n",
        "model.load_weights(initial_weights)\n",
        "careful_bias_history = model.fit(\n",
        "    train_features,\n",
        "    train_labels,\n",
        "    batch_size=BATCH_SIZE,\n",
        "    epochs=20,\n",
        "    validation_data=(val_features, val_labels),\n",
        "    verbose=0)"
      ],
      "metadata": {
        "id": "pV9uwlWk3Kpf"
      },
      "execution_count": 22,
      "outputs": []
    },
    {
      "cell_type": "code",
      "source": [
        "def plot_loss(history, label, n):\n",
        "  # Use a log scale on y-axis to show the wide range of values.\n",
        "  plt.semilogy(history.epoch, history.history['loss'],\n",
        "               color=colors[n], label='Train ' + label)\n",
        "  plt.semilogy(history.epoch, history.history['val_loss'],\n",
        "               color=colors[n], label='Val ' + label,\n",
        "               linestyle=\"--\")\n",
        "  plt.xlabel('Epoch')\n",
        "  plt.ylabel('Loss')\n",
        "  plt.legend()"
      ],
      "metadata": {
        "id": "QCJ6cH7c3B7u"
      },
      "execution_count": 23,
      "outputs": []
    },
    {
      "cell_type": "code",
      "source": [
        "plot_loss(zero_bias_history, \"Zero Bias\", 0)\n",
        "plot_loss(careful_bias_history, \"Careful Bias\", 1)"
      ],
      "metadata": {
        "colab": {
          "base_uri": "https://localhost:8080/",
          "height": 850
        },
        "id": "LjPgERurAJ2d",
        "outputId": "6946f2f1-a9ff-43cc-cbdd-c05bd656896b"
      },
      "execution_count": 24,
      "outputs": [
        {
          "output_type": "display_data",
          "data": {
            "text/plain": [
              "<Figure size 1200x1000 with 1 Axes>"
            ],
            "image/png": "[encoded data removed]"
          },
          "metadata": {}
        }
      ]
    },
    {
      "cell_type": "code",
      "source": [],
      "metadata": {
        "id": "Trfgy6mgBxsm"
      },
      "execution_count": null,
      "outputs": []
    },
    {
      "cell_type": "markdown",
      "source": [
        "# Train the model"
      ],
      "metadata": {
        "id": "jGFWXT0KBrZ7"
      }
    },
    {
      "cell_type": "code",
      "source": [
        "model = make_model()\n",
        "model.load_weights(initial_weights)\n",
        "baseline_history = model.fit(\n",
        "    train_features,\n",
        "    train_labels,\n",
        "    batch_size=BATCH_SIZE,\n",
        "    epochs=EPOCHS,\n",
        "    callbacks=[early_stopping],\n",
        "    validation_data=(val_features, val_labels))"
      ],
      "metadata": {
        "colab": {
          "base_uri": "https://localhost:8080/"
        },
        "id": "a5NqN33OBiCH",
        "outputId": "2720e9d4-efca-4b39-8fcc-8bc1de32c85f"
      },
      "execution_count": 27,
      "outputs": [
        {
          "output_type": "stream",
          "name": "stdout",
          "text": [
            "Epoch 1/100\n",
            "90/90 [==============================] - 3s 12ms/step - loss: 0.0101 - cross entropy: 0.0086 - Brier score: 0.0013 - tp: 93.0000 - fp: 24.0000 - tn: 227432.0000 - fn: 296.0000 - accuracy: 0.9986 - precision: 0.7949 - recall: 0.2391 - auc: 0.7885 - prc: 0.3622 - val_loss: 0.0051 - val_cross entropy: 0.0051 - val_Brier score: 0.0011 - val_tp: 15.0000 - val_fp: 0.0000e+00 - val_tn: 45489.0000 - val_fn: 65.0000 - val_accuracy: 0.9986 - val_precision: 1.0000 - val_recall: 0.1875 - val_auc: 0.9372 - val_prc: 0.7904\n",
            "Epoch 2/100\n",
            "90/90 [==============================] - 0s 5ms/step - loss: 0.0069 - cross entropy: 0.0069 - Brier score: 0.0011 - tp: 123.0000 - fp: 27.0000 - tn: 181940.0000 - fn: 186.0000 - accuracy: 0.9988 - precision: 0.8200 - recall: 0.3981 - auc: 0.8492 - prc: 0.4734 - val_loss: 0.0038 - val_cross entropy: 0.0038 - val_Brier score: 8.1663e-04 - val_tp: 38.0000 - val_fp: 7.0000 - val_tn: 45482.0000 - val_fn: 42.0000 - val_accuracy: 0.9989 - val_precision: 0.8444 - val_recall: 0.4750 - val_auc: 0.9434 - val_prc: 0.7900\n",
            "Epoch 3/100\n",
            "90/90 [==============================] - 0s 4ms/step - loss: 0.0061 - cross entropy: 0.0061 - Brier score: 9.7498e-04 - tp: 134.0000 - fp: 30.0000 - tn: 181937.0000 - fn: 175.0000 - accuracy: 0.9989 - precision: 0.8171 - recall: 0.4337 - auc: 0.8739 - prc: 0.5532 - val_loss: 0.0035 - val_cross entropy: 0.0035 - val_Brier score: 7.3734e-04 - val_tp: 42.0000 - val_fp: 8.0000 - val_tn: 45481.0000 - val_fn: 38.0000 - val_accuracy: 0.9990 - val_precision: 0.8400 - val_recall: 0.5250 - val_auc: 0.9435 - val_prc: 0.7939\n",
            "Epoch 4/100\n",
            "90/90 [==============================] - 0s 5ms/step - loss: 0.0055 - cross entropy: 0.0055 - Brier score: 8.6090e-04 - tp: 150.0000 - fp: 23.0000 - tn: 181944.0000 - fn: 159.0000 - accuracy: 0.9990 - precision: 0.8671 - recall: 0.4854 - auc: 0.8860 - prc: 0.6200 - val_loss: 0.0033 - val_cross entropy: 0.0033 - val_Brier score: 6.7110e-04 - val_tp: 47.0000 - val_fp: 8.0000 - val_tn: 45481.0000 - val_fn: 33.0000 - val_accuracy: 0.9991 - val_precision: 0.8545 - val_recall: 0.5875 - val_auc: 0.9435 - val_prc: 0.7900\n",
            "Epoch 5/100\n",
            "90/90 [==============================] - 0s 4ms/step - loss: 0.0058 - cross entropy: 0.0058 - Brier score: 9.1207e-04 - tp: 150.0000 - fp: 29.0000 - tn: 181938.0000 - fn: 159.0000 - accuracy: 0.9990 - precision: 0.8380 - recall: 0.4854 - auc: 0.8733 - prc: 0.5950 - val_loss: 0.0032 - val_cross entropy: 0.0032 - val_Brier score: 6.4972e-04 - val_tp: 48.0000 - val_fp: 9.0000 - val_tn: 45480.0000 - val_fn: 32.0000 - val_accuracy: 0.9991 - val_precision: 0.8421 - val_recall: 0.6000 - val_auc: 0.9435 - val_prc: 0.7923\n",
            "Epoch 6/100\n",
            "90/90 [==============================] - 0s 4ms/step - loss: 0.0055 - cross entropy: 0.0055 - Brier score: 9.2538e-04 - tp: 147.0000 - fp: 29.0000 - tn: 181938.0000 - fn: 162.0000 - accuracy: 0.9990 - precision: 0.8352 - recall: 0.4757 - auc: 0.8899 - prc: 0.5962 - val_loss: 0.0031 - val_cross entropy: 0.0031 - val_Brier score: 6.5913e-04 - val_tp: 46.0000 - val_fp: 8.0000 - val_tn: 45481.0000 - val_fn: 34.0000 - val_accuracy: 0.9991 - val_precision: 0.8519 - val_recall: 0.5750 - val_auc: 0.9435 - val_prc: 0.7998\n",
            "Epoch 7/100\n",
            "90/90 [==============================] - 0s 4ms/step - loss: 0.0052 - cross entropy: 0.0052 - Brier score: 8.8378e-04 - tp: 157.0000 - fp: 30.0000 - tn: 181937.0000 - fn: 152.0000 - accuracy: 0.9990 - precision: 0.8396 - recall: 0.5081 - auc: 0.8964 - prc: 0.6163 - val_loss: 0.0031 - val_cross entropy: 0.0031 - val_Brier score: 6.4750e-04 - val_tp: 48.0000 - val_fp: 8.0000 - val_tn: 45481.0000 - val_fn: 32.0000 - val_accuracy: 0.9991 - val_precision: 0.8571 - val_recall: 0.6000 - val_auc: 0.9435 - val_prc: 0.8040\n",
            "Epoch 8/100\n",
            "90/90 [==============================] - 0s 4ms/step - loss: 0.0055 - cross entropy: 0.0055 - Brier score: 9.5972e-04 - tp: 137.0000 - fp: 32.0000 - tn: 181935.0000 - fn: 172.0000 - accuracy: 0.9989 - precision: 0.8107 - recall: 0.4434 - auc: 0.8818 - prc: 0.5929 - val_loss: 0.0029 - val_cross entropy: 0.0029 - val_Brier score: 6.0676e-04 - val_tp: 53.0000 - val_fp: 9.0000 - val_tn: 45480.0000 - val_fn: 27.0000 - val_accuracy: 0.9992 - val_precision: 0.8548 - val_recall: 0.6625 - val_auc: 0.9435 - val_prc: 0.8089\n",
            "Epoch 9/100\n",
            "90/90 [==============================] - 0s 4ms/step - loss: 0.0051 - cross entropy: 0.0051 - Brier score: 8.8956e-04 - tp: 156.0000 - fp: 25.0000 - tn: 181942.0000 - fn: 153.0000 - accuracy: 0.9990 - precision: 0.8619 - recall: 0.5049 - auc: 0.8885 - prc: 0.6285 - val_loss: 0.0029 - val_cross entropy: 0.0029 - val_Brier score: 5.8225e-04 - val_tp: 55.0000 - val_fp: 9.0000 - val_tn: 45480.0000 - val_fn: 25.0000 - val_accuracy: 0.9993 - val_precision: 0.8594 - val_recall: 0.6875 - val_auc: 0.9435 - val_prc: 0.8085\n",
            "Epoch 10/100\n",
            "90/90 [==============================] - 0s 4ms/step - loss: 0.0047 - cross entropy: 0.0047 - Brier score: 7.9634e-04 - tp: 170.0000 - fp: 30.0000 - tn: 181937.0000 - fn: 139.0000 - accuracy: 0.9991 - precision: 0.8500 - recall: 0.5502 - auc: 0.9081 - prc: 0.6692 - val_loss: 0.0029 - val_cross entropy: 0.0029 - val_Brier score: 5.8476e-04 - val_tp: 53.0000 - val_fp: 9.0000 - val_tn: 45480.0000 - val_fn: 27.0000 - val_accuracy: 0.9992 - val_precision: 0.8548 - val_recall: 0.6625 - val_auc: 0.9435 - val_prc: 0.8071\n",
            "Epoch 11/100\n",
            "90/90 [==============================] - 0s 4ms/step - loss: 0.0046 - cross entropy: 0.0046 - Brier score: 8.0032e-04 - tp: 170.0000 - fp: 26.0000 - tn: 181941.0000 - fn: 139.0000 - accuracy: 0.9991 - precision: 0.8673 - recall: 0.5502 - auc: 0.9017 - prc: 0.6742 - val_loss: 0.0028 - val_cross entropy: 0.0028 - val_Brier score: 5.7690e-04 - val_tp: 54.0000 - val_fp: 9.0000 - val_tn: 45480.0000 - val_fn: 26.0000 - val_accuracy: 0.9992 - val_precision: 0.8571 - val_recall: 0.6750 - val_auc: 0.9435 - val_prc: 0.8127\n",
            "Epoch 12/100\n",
            "90/90 [==============================] - 0s 4ms/step - loss: 0.0049 - cross entropy: 0.0049 - Brier score: 8.4921e-04 - tp: 159.0000 - fp: 27.0000 - tn: 181940.0000 - fn: 150.0000 - accuracy: 0.9990 - precision: 0.8548 - recall: 0.5146 - auc: 0.9016 - prc: 0.6402 - val_loss: 0.0028 - val_cross entropy: 0.0028 - val_Brier score: 5.6155e-04 - val_tp: 57.0000 - val_fp: 9.0000 - val_tn: 45480.0000 - val_fn: 23.0000 - val_accuracy: 0.9993 - val_precision: 0.8636 - val_recall: 0.7125 - val_auc: 0.9435 - val_prc: 0.8139\n",
            "Epoch 13/100\n",
            "90/90 [==============================] - 0s 4ms/step - loss: 0.0047 - cross entropy: 0.0047 - Brier score: 8.0418e-04 - tp: 162.0000 - fp: 24.0000 - tn: 181943.0000 - fn: 147.0000 - accuracy: 0.9991 - precision: 0.8710 - recall: 0.5243 - auc: 0.9065 - prc: 0.6747 - val_loss: 0.0027 - val_cross entropy: 0.0027 - val_Brier score: 5.3812e-04 - val_tp: 61.0000 - val_fp: 10.0000 - val_tn: 45479.0000 - val_fn: 19.0000 - val_accuracy: 0.9994 - val_precision: 0.8592 - val_recall: 0.7625 - val_auc: 0.9497 - val_prc: 0.8189\n",
            "Epoch 14/100\n",
            "90/90 [==============================] - 0s 4ms/step - loss: 0.0051 - cross entropy: 0.0051 - Brier score: 8.7873e-04 - tp: 150.0000 - fp: 26.0000 - tn: 181941.0000 - fn: 159.0000 - accuracy: 0.9990 - precision: 0.8523 - recall: 0.4854 - auc: 0.8837 - prc: 0.6402 - val_loss: 0.0027 - val_cross entropy: 0.0027 - val_Brier score: 5.2927e-04 - val_tp: 64.0000 - val_fp: 10.0000 - val_tn: 45479.0000 - val_fn: 16.0000 - val_accuracy: 0.9994 - val_precision: 0.8649 - val_recall: 0.8000 - val_auc: 0.9497 - val_prc: 0.8183\n",
            "Epoch 15/100\n",
            "90/90 [==============================] - 0s 4ms/step - loss: 0.0049 - cross entropy: 0.0049 - Brier score: 8.3316e-04 - tp: 173.0000 - fp: 37.0000 - tn: 181930.0000 - fn: 136.0000 - accuracy: 0.9991 - precision: 0.8238 - recall: 0.5599 - auc: 0.8789 - prc: 0.6379 - val_loss: 0.0027 - val_cross entropy: 0.0027 - val_Brier score: 5.5520e-04 - val_tp: 59.0000 - val_fp: 9.0000 - val_tn: 45480.0000 - val_fn: 21.0000 - val_accuracy: 0.9993 - val_precision: 0.8676 - val_recall: 0.7375 - val_auc: 0.9498 - val_prc: 0.8224\n",
            "Epoch 16/100\n",
            "90/90 [==============================] - 0s 4ms/step - loss: 0.0046 - cross entropy: 0.0046 - Brier score: 8.0966e-04 - tp: 171.0000 - fp: 29.0000 - tn: 181938.0000 - fn: 138.0000 - accuracy: 0.9991 - precision: 0.8550 - recall: 0.5534 - auc: 0.9034 - prc: 0.6730 - val_loss: 0.0027 - val_cross entropy: 0.0027 - val_Brier score: 5.4396e-04 - val_tp: 59.0000 - val_fp: 9.0000 - val_tn: 45480.0000 - val_fn: 21.0000 - val_accuracy: 0.9993 - val_precision: 0.8676 - val_recall: 0.7375 - val_auc: 0.9498 - val_prc: 0.8240\n",
            "Epoch 17/100\n",
            "90/90 [==============================] - 0s 5ms/step - loss: 0.0049 - cross entropy: 0.0049 - Brier score: 8.7972e-04 - tp: 153.0000 - fp: 29.0000 - tn: 181938.0000 - fn: 156.0000 - accuracy: 0.9990 - precision: 0.8407 - recall: 0.4951 - auc: 0.8887 - prc: 0.6311 - val_loss: 0.0027 - val_cross entropy: 0.0027 - val_Brier score: 5.3208e-04 - val_tp: 60.0000 - val_fp: 10.0000 - val_tn: 45479.0000 - val_fn: 20.0000 - val_accuracy: 0.9993 - val_precision: 0.8571 - val_recall: 0.7500 - val_auc: 0.9435 - val_prc: 0.8176\n",
            "Epoch 18/100\n",
            "90/90 [==============================] - 1s 9ms/step - loss: 0.0044 - cross entropy: 0.0044 - Brier score: 8.0480e-04 - tp: 168.0000 - fp: 27.0000 - tn: 181940.0000 - fn: 141.0000 - accuracy: 0.9991 - precision: 0.8615 - recall: 0.5437 - auc: 0.9148 - prc: 0.6903 - val_loss: 0.0027 - val_cross entropy: 0.0027 - val_Brier score: 5.2879e-04 - val_tp: 59.0000 - val_fp: 9.0000 - val_tn: 45480.0000 - val_fn: 21.0000 - val_accuracy: 0.9993 - val_precision: 0.8676 - val_recall: 0.7375 - val_auc: 0.9498 - val_prc: 0.8296\n",
            "Epoch 19/100\n",
            "90/90 [==============================] - 1s 17ms/step - loss: 0.0047 - cross entropy: 0.0047 - Brier score: 8.6529e-04 - tp: 159.0000 - fp: 32.0000 - tn: 181935.0000 - fn: 150.0000 - accuracy: 0.9990 - precision: 0.8325 - recall: 0.5146 - auc: 0.9034 - prc: 0.6482 - val_loss: 0.0026 - val_cross entropy: 0.0026 - val_Brier score: 5.2088e-04 - val_tp: 59.0000 - val_fp: 11.0000 - val_tn: 45478.0000 - val_fn: 21.0000 - val_accuracy: 0.9993 - val_precision: 0.8429 - val_recall: 0.7375 - val_auc: 0.9498 - val_prc: 0.8316\n",
            "Epoch 20/100\n",
            "90/90 [==============================] - 1s 12ms/step - loss: 0.0044 - cross entropy: 0.0044 - Brier score: 7.8197e-04 - tp: 166.0000 - fp: 25.0000 - tn: 181942.0000 - fn: 143.0000 - accuracy: 0.9991 - precision: 0.8691 - recall: 0.5372 - auc: 0.9067 - prc: 0.6858 - val_loss: 0.0026 - val_cross entropy: 0.0026 - val_Brier score: 5.0668e-04 - val_tp: 66.0000 - val_fp: 11.0000 - val_tn: 45478.0000 - val_fn: 14.0000 - val_accuracy: 0.9995 - val_precision: 0.8571 - val_recall: 0.8250 - val_auc: 0.9497 - val_prc: 0.8290\n",
            "Epoch 21/100\n",
            "90/90 [==============================] - 1s 11ms/step - loss: 0.0040 - cross entropy: 0.0040 - Brier score: 7.0597e-04 - tp: 185.0000 - fp: 26.0000 - tn: 181941.0000 - fn: 124.0000 - accuracy: 0.9992 - precision: 0.8768 - recall: 0.5987 - auc: 0.9067 - prc: 0.7195 - val_loss: 0.0026 - val_cross entropy: 0.0026 - val_Brier score: 5.0715e-04 - val_tp: 66.0000 - val_fp: 11.0000 - val_tn: 45478.0000 - val_fn: 14.0000 - val_accuracy: 0.9995 - val_precision: 0.8571 - val_recall: 0.8250 - val_auc: 0.9497 - val_prc: 0.8312\n",
            "Epoch 22/100\n",
            "90/90 [==============================] - 1s 11ms/step - loss: 0.0043 - cross entropy: 0.0043 - Brier score: 7.5826e-04 - tp: 182.0000 - fp: 33.0000 - tn: 181934.0000 - fn: 127.0000 - accuracy: 0.9991 - precision: 0.8465 - recall: 0.5890 - auc: 0.9179 - prc: 0.6843 - val_loss: 0.0026 - val_cross entropy: 0.0026 - val_Brier score: 5.1341e-04 - val_tp: 60.0000 - val_fp: 11.0000 - val_tn: 45478.0000 - val_fn: 20.0000 - val_accuracy: 0.9993 - val_precision: 0.8451 - val_recall: 0.7500 - val_auc: 0.9497 - val_prc: 0.8352\n",
            "Epoch 23/100\n",
            "90/90 [==============================] - 1s 9ms/step - loss: 0.0044 - cross entropy: 0.0044 - Brier score: 7.7293e-04 - tp: 172.0000 - fp: 25.0000 - tn: 181942.0000 - fn: 137.0000 - accuracy: 0.9991 - precision: 0.8731 - recall: 0.5566 - auc: 0.9065 - prc: 0.6834 - val_loss: 0.0026 - val_cross entropy: 0.0026 - val_Brier score: 5.0196e-04 - val_tp: 66.0000 - val_fp: 11.0000 - val_tn: 45478.0000 - val_fn: 14.0000 - val_accuracy: 0.9995 - val_precision: 0.8571 - val_recall: 0.8250 - val_auc: 0.9497 - val_prc: 0.8322\n",
            "Epoch 24/100\n",
            "90/90 [==============================] - 1s 10ms/step - loss: 0.0043 - cross entropy: 0.0043 - Brier score: 7.8601e-04 - tp: 179.0000 - fp: 32.0000 - tn: 181935.0000 - fn: 130.0000 - accuracy: 0.9991 - precision: 0.8483 - recall: 0.5793 - auc: 0.9100 - prc: 0.7031 - val_loss: 0.0026 - val_cross entropy: 0.0026 - val_Brier score: 5.2084e-04 - val_tp: 59.0000 - val_fp: 9.0000 - val_tn: 45480.0000 - val_fn: 21.0000 - val_accuracy: 0.9993 - val_precision: 0.8676 - val_recall: 0.7375 - val_auc: 0.9498 - val_prc: 0.8349\n",
            "Epoch 25/100\n",
            "90/90 [==============================] - 1s 6ms/step - loss: 0.0047 - cross entropy: 0.0047 - Brier score: 8.7322e-04 - tp: 155.0000 - fp: 32.0000 - tn: 181935.0000 - fn: 154.0000 - accuracy: 0.9990 - precision: 0.8289 - recall: 0.5016 - auc: 0.8953 - prc: 0.6557 - val_loss: 0.0026 - val_cross entropy: 0.0026 - val_Brier score: 5.0595e-04 - val_tp: 63.0000 - val_fp: 11.0000 - val_tn: 45478.0000 - val_fn: 17.0000 - val_accuracy: 0.9994 - val_precision: 0.8514 - val_recall: 0.7875 - val_auc: 0.9498 - val_prc: 0.8317\n",
            "Epoch 26/100\n",
            "90/90 [==============================] - 0s 4ms/step - loss: 0.0045 - cross entropy: 0.0045 - Brier score: 7.8842e-04 - tp: 173.0000 - fp: 28.0000 - tn: 181939.0000 - fn: 136.0000 - accuracy: 0.9991 - precision: 0.8607 - recall: 0.5599 - auc: 0.8986 - prc: 0.6661 - val_loss: 0.0026 - val_cross entropy: 0.0026 - val_Brier score: 4.9710e-04 - val_tp: 65.0000 - val_fp: 11.0000 - val_tn: 45478.0000 - val_fn: 15.0000 - val_accuracy: 0.9994 - val_precision: 0.8553 - val_recall: 0.8125 - val_auc: 0.9498 - val_prc: 0.8327\n",
            "Epoch 27/100\n",
            "90/90 [==============================] - 0s 4ms/step - loss: 0.0045 - cross entropy: 0.0045 - Brier score: 8.1038e-04 - tp: 172.0000 - fp: 30.0000 - tn: 181937.0000 - fn: 137.0000 - accuracy: 0.9991 - precision: 0.8515 - recall: 0.5566 - auc: 0.9083 - prc: 0.6707 - val_loss: 0.0026 - val_cross entropy: 0.0026 - val_Brier score: 5.2419e-04 - val_tp: 60.0000 - val_fp: 9.0000 - val_tn: 45480.0000 - val_fn: 20.0000 - val_accuracy: 0.9994 - val_precision: 0.8696 - val_recall: 0.7500 - val_auc: 0.9498 - val_prc: 0.8354\n",
            "Epoch 28/100\n",
            "90/90 [==============================] - 1s 6ms/step - loss: 0.0041 - cross entropy: 0.0041 - Brier score: 7.6000e-04 - tp: 179.0000 - fp: 36.0000 - tn: 181931.0000 - fn: 130.0000 - accuracy: 0.9991 - precision: 0.8326 - recall: 0.5793 - auc: 0.9035 - prc: 0.7031 - val_loss: 0.0026 - val_cross entropy: 0.0026 - val_Brier score: 5.2012e-04 - val_tp: 61.0000 - val_fp: 9.0000 - val_tn: 45480.0000 - val_fn: 19.0000 - val_accuracy: 0.9994 - val_precision: 0.8714 - val_recall: 0.7625 - val_auc: 0.9560 - val_prc: 0.8426\n",
            "Epoch 29/100\n",
            "90/90 [==============================] - 0s 4ms/step - loss: 0.0043 - cross entropy: 0.0043 - Brier score: 8.1191e-04 - tp: 163.0000 - fp: 34.0000 - tn: 181933.0000 - fn: 146.0000 - accuracy: 0.9990 - precision: 0.8274 - recall: 0.5275 - auc: 0.9083 - prc: 0.6821 - val_loss: 0.0026 - val_cross entropy: 0.0026 - val_Brier score: 4.9863e-04 - val_tp: 62.0000 - val_fp: 10.0000 - val_tn: 45479.0000 - val_fn: 18.0000 - val_accuracy: 0.9994 - val_precision: 0.8611 - val_recall: 0.7750 - val_auc: 0.9560 - val_prc: 0.8413\n",
            "Epoch 30/100\n",
            "90/90 [==============================] - 0s 5ms/step - loss: 0.0043 - cross entropy: 0.0043 - Brier score: 7.9893e-04 - tp: 169.0000 - fp: 34.0000 - tn: 181933.0000 - fn: 140.0000 - accuracy: 0.9990 - precision: 0.8325 - recall: 0.5469 - auc: 0.9003 - prc: 0.6850 - val_loss: 0.0026 - val_cross entropy: 0.0026 - val_Brier score: 4.9297e-04 - val_tp: 65.0000 - val_fp: 10.0000 - val_tn: 45479.0000 - val_fn: 15.0000 - val_accuracy: 0.9995 - val_precision: 0.8667 - val_recall: 0.8125 - val_auc: 0.9560 - val_prc: 0.8419\n",
            "Epoch 31/100\n",
            "90/90 [==============================] - 0s 4ms/step - loss: 0.0045 - cross entropy: 0.0045 - Brier score: 7.9999e-04 - tp: 163.0000 - fp: 25.0000 - tn: 181942.0000 - fn: 146.0000 - accuracy: 0.9991 - precision: 0.8670 - recall: 0.5275 - auc: 0.8937 - prc: 0.6650 - val_loss: 0.0026 - val_cross entropy: 0.0026 - val_Brier score: 4.8922e-04 - val_tp: 65.0000 - val_fp: 11.0000 - val_tn: 45478.0000 - val_fn: 15.0000 - val_accuracy: 0.9994 - val_precision: 0.8553 - val_recall: 0.8125 - val_auc: 0.9498 - val_prc: 0.8367\n",
            "Epoch 32/100\n",
            "90/90 [==============================] - 0s 4ms/step - loss: 0.0042 - cross entropy: 0.0042 - Brier score: 7.8451e-04 - tp: 168.0000 - fp: 27.0000 - tn: 181940.0000 - fn: 141.0000 - accuracy: 0.9991 - precision: 0.8615 - recall: 0.5437 - auc: 0.9132 - prc: 0.7053 - val_loss: 0.0025 - val_cross entropy: 0.0025 - val_Brier score: 4.8769e-04 - val_tp: 65.0000 - val_fp: 10.0000 - val_tn: 45479.0000 - val_fn: 15.0000 - val_accuracy: 0.9995 - val_precision: 0.8667 - val_recall: 0.8125 - val_auc: 0.9560 - val_prc: 0.8409\n",
            "Epoch 33/100\n",
            "90/90 [==============================] - 1s 9ms/step - loss: 0.0043 - cross entropy: 0.0043 - Brier score: 8.2205e-04 - tp: 166.0000 - fp: 36.0000 - tn: 181931.0000 - fn: 143.0000 - accuracy: 0.9990 - precision: 0.8218 - recall: 0.5372 - auc: 0.9100 - prc: 0.6789 - val_loss: 0.0025 - val_cross entropy: 0.0025 - val_Brier score: 4.8458e-04 - val_tp: 66.0000 - val_fp: 11.0000 - val_tn: 45478.0000 - val_fn: 14.0000 - val_accuracy: 0.9995 - val_precision: 0.8571 - val_recall: 0.8250 - val_auc: 0.9622 - val_prc: 0.8479\n",
            "Epoch 34/100\n",
            "90/90 [==============================] - 1s 8ms/step - loss: 0.0044 - cross entropy: 0.0044 - Brier score: 7.8540e-04 - tp: 166.0000 - fp: 25.0000 - tn: 181942.0000 - fn: 143.0000 - accuracy: 0.9991 - precision: 0.8691 - recall: 0.5372 - auc: 0.9002 - prc: 0.6885 - val_loss: 0.0025 - val_cross entropy: 0.0025 - val_Brier score: 4.8661e-04 - val_tp: 65.0000 - val_fp: 11.0000 - val_tn: 45478.0000 - val_fn: 15.0000 - val_accuracy: 0.9994 - val_precision: 0.8553 - val_recall: 0.8125 - val_auc: 0.9622 - val_prc: 0.8507\n",
            "Epoch 35/100\n",
            "90/90 [==============================] - 1s 8ms/step - loss: 0.0038 - cross entropy: 0.0038 - Brier score: 7.1123e-04 - tp: 181.0000 - fp: 29.0000 - tn: 181938.0000 - fn: 128.0000 - accuracy: 0.9991 - precision: 0.8619 - recall: 0.5858 - auc: 0.9198 - prc: 0.7265 - val_loss: 0.0025 - val_cross entropy: 0.0025 - val_Brier score: 4.8748e-04 - val_tp: 65.0000 - val_fp: 11.0000 - val_tn: 45478.0000 - val_fn: 15.0000 - val_accuracy: 0.9994 - val_precision: 0.8553 - val_recall: 0.8125 - val_auc: 0.9622 - val_prc: 0.8490\n",
            "Epoch 36/100\n",
            "90/90 [==============================] - 1s 8ms/step - loss: 0.0040 - cross entropy: 0.0040 - Brier score: 7.2381e-04 - tp: 179.0000 - fp: 26.0000 - tn: 181941.0000 - fn: 130.0000 - accuracy: 0.9991 - precision: 0.8732 - recall: 0.5793 - auc: 0.9002 - prc: 0.7092 - val_loss: 0.0025 - val_cross entropy: 0.0025 - val_Brier score: 4.8679e-04 - val_tp: 63.0000 - val_fp: 10.0000 - val_tn: 45479.0000 - val_fn: 17.0000 - val_accuracy: 0.9994 - val_precision: 0.8630 - val_recall: 0.7875 - val_auc: 0.9560 - val_prc: 0.8434\n",
            "Epoch 37/100\n",
            "90/90 [==============================] - 1s 7ms/step - loss: 0.0041 - cross entropy: 0.0041 - Brier score: 7.6432e-04 - tp: 167.0000 - fp: 28.0000 - tn: 181939.0000 - fn: 142.0000 - accuracy: 0.9991 - precision: 0.8564 - recall: 0.5405 - auc: 0.9101 - prc: 0.6958 - val_loss: 0.0025 - val_cross entropy: 0.0025 - val_Brier score: 4.8485e-04 - val_tp: 63.0000 - val_fp: 10.0000 - val_tn: 45479.0000 - val_fn: 17.0000 - val_accuracy: 0.9994 - val_precision: 0.8630 - val_recall: 0.7875 - val_auc: 0.9498 - val_prc: 0.8399\n",
            "Epoch 38/100\n",
            "90/90 [==============================] - 1s 9ms/step - loss: 0.0040 - cross entropy: 0.0040 - Brier score: 7.1664e-04 - tp: 177.0000 - fp: 24.0000 - tn: 181943.0000 - fn: 132.0000 - accuracy: 0.9991 - precision: 0.8806 - recall: 0.5728 - auc: 0.9133 - prc: 0.7267 - val_loss: 0.0025 - val_cross entropy: 0.0025 - val_Brier score: 4.8102e-04 - val_tp: 65.0000 - val_fp: 11.0000 - val_tn: 45478.0000 - val_fn: 15.0000 - val_accuracy: 0.9994 - val_precision: 0.8553 - val_recall: 0.8125 - val_auc: 0.9623 - val_prc: 0.8497\n",
            "Epoch 39/100\n",
            "90/90 [==============================] - 1s 13ms/step - loss: 0.0043 - cross entropy: 0.0043 - Brier score: 7.7651e-04 - tp: 168.0000 - fp: 26.0000 - tn: 181941.0000 - fn: 141.0000 - accuracy: 0.9991 - precision: 0.8660 - recall: 0.5437 - auc: 0.8953 - prc: 0.6815 - val_loss: 0.0025 - val_cross entropy: 0.0025 - val_Brier score: 4.8112e-04 - val_tp: 65.0000 - val_fp: 10.0000 - val_tn: 45479.0000 - val_fn: 15.0000 - val_accuracy: 0.9995 - val_precision: 0.8667 - val_recall: 0.8125 - val_auc: 0.9622 - val_prc: 0.8476\n",
            "Epoch 40/100\n",
            "90/90 [==============================] - 1s 11ms/step - loss: 0.0042 - cross entropy: 0.0042 - Brier score: 7.7375e-04 - tp: 168.0000 - fp: 33.0000 - tn: 181934.0000 - fn: 141.0000 - accuracy: 0.9990 - precision: 0.8358 - recall: 0.5437 - auc: 0.9067 - prc: 0.6940 - val_loss: 0.0026 - val_cross entropy: 0.0026 - val_Brier score: 4.7818e-04 - val_tp: 66.0000 - val_fp: 11.0000 - val_tn: 45478.0000 - val_fn: 14.0000 - val_accuracy: 0.9995 - val_precision: 0.8571 - val_recall: 0.8250 - val_auc: 0.9622 - val_prc: 0.8468\n",
            "Epoch 41/100\n",
            "90/90 [==============================] - 1s 12ms/step - loss: 0.0039 - cross entropy: 0.0039 - Brier score: 7.2695e-04 - tp: 177.0000 - fp: 24.0000 - tn: 181943.0000 - fn: 132.0000 - accuracy: 0.9991 - precision: 0.8806 - recall: 0.5728 - auc: 0.9084 - prc: 0.7123 - val_loss: 0.0025 - val_cross entropy: 0.0025 - val_Brier score: 4.8067e-04 - val_tp: 65.0000 - val_fp: 10.0000 - val_tn: 45479.0000 - val_fn: 15.0000 - val_accuracy: 0.9995 - val_precision: 0.8667 - val_recall: 0.8125 - val_auc: 0.9622 - val_prc: 0.8473\n",
            "Epoch 42/100\n",
            "90/90 [==============================] - 1s 13ms/step - loss: 0.0041 - cross entropy: 0.0041 - Brier score: 7.5206e-04 - tp: 173.0000 - fp: 31.0000 - tn: 181936.0000 - fn: 136.0000 - accuracy: 0.9991 - precision: 0.8480 - recall: 0.5599 - auc: 0.9036 - prc: 0.6953 - val_loss: 0.0026 - val_cross entropy: 0.0026 - val_Brier score: 4.8292e-04 - val_tp: 63.0000 - val_fp: 10.0000 - val_tn: 45479.0000 - val_fn: 17.0000 - val_accuracy: 0.9994 - val_precision: 0.8630 - val_recall: 0.7875 - val_auc: 0.9560 - val_prc: 0.8417\n",
            "Epoch 43/100\n",
            "90/90 [==============================] - 1s 10ms/step - loss: 0.0039 - cross entropy: 0.0039 - Brier score: 7.4311e-04 - tp: 178.0000 - fp: 30.0000 - tn: 181937.0000 - fn: 131.0000 - accuracy: 0.9991 - precision: 0.8558 - recall: 0.5761 - auc: 0.9101 - prc: 0.7275 - val_loss: 0.0025 - val_cross entropy: 0.0025 - val_Brier score: 4.9907e-04 - val_tp: 63.0000 - val_fp: 8.0000 - val_tn: 45481.0000 - val_fn: 17.0000 - val_accuracy: 0.9995 - val_precision: 0.8873 - val_recall: 0.7875 - val_auc: 0.9622 - val_prc: 0.8512\n",
            "Epoch 44/100\n",
            "90/90 [==============================] - 0s 4ms/step - loss: 0.0044 - cross entropy: 0.0044 - Brier score: 8.0989e-04 - tp: 161.0000 - fp: 25.0000 - tn: 181942.0000 - fn: 148.0000 - accuracy: 0.9991 - precision: 0.8656 - recall: 0.5210 - auc: 0.9083 - prc: 0.6801 - val_loss: 0.0025 - val_cross entropy: 0.0025 - val_Brier score: 4.8623e-04 - val_tp: 63.0000 - val_fp: 9.0000 - val_tn: 45480.0000 - val_fn: 17.0000 - val_accuracy: 0.9994 - val_precision: 0.8750 - val_recall: 0.7875 - val_auc: 0.9622 - val_prc: 0.8478\n",
            "Epoch 45/100\n",
            "90/90 [==============================] - 0s 5ms/step - loss: 0.0042 - cross entropy: 0.0042 - Brier score: 7.9575e-04 - tp: 174.0000 - fp: 37.0000 - tn: 181930.0000 - fn: 135.0000 - accuracy: 0.9991 - precision: 0.8246 - recall: 0.5631 - auc: 0.9084 - prc: 0.6970 - val_loss: 0.0025 - val_cross entropy: 0.0025 - val_Brier score: 4.9773e-04 - val_tp: 63.0000 - val_fp: 8.0000 - val_tn: 45481.0000 - val_fn: 17.0000 - val_accuracy: 0.9995 - val_precision: 0.8873 - val_recall: 0.7875 - val_auc: 0.9623 - val_prc: 0.8506\n",
            "Epoch 46/100\n",
            "90/90 [==============================] - 0s 5ms/step - loss: 0.0041 - cross entropy: 0.0041 - Brier score: 7.7240e-04 - tp: 168.0000 - fp: 30.0000 - tn: 181937.0000 - fn: 141.0000 - accuracy: 0.9991 - precision: 0.8485 - recall: 0.5437 - auc: 0.9197 - prc: 0.7095 - val_loss: 0.0025 - val_cross entropy: 0.0025 - val_Brier score: 4.7810e-04 - val_tp: 63.0000 - val_fp: 9.0000 - val_tn: 45480.0000 - val_fn: 17.0000 - val_accuracy: 0.9994 - val_precision: 0.8750 - val_recall: 0.7875 - val_auc: 0.9622 - val_prc: 0.8492\n",
            "Epoch 47/100\n",
            "90/90 [==============================] - 0s 4ms/step - loss: 0.0041 - cross entropy: 0.0041 - Brier score: 7.6229e-04 - tp: 167.0000 - fp: 26.0000 - tn: 181941.0000 - fn: 142.0000 - accuracy: 0.9991 - precision: 0.8653 - recall: 0.5405 - auc: 0.9083 - prc: 0.7045 - val_loss: 0.0025 - val_cross entropy: 0.0025 - val_Brier score: 4.7852e-04 - val_tp: 63.0000 - val_fp: 9.0000 - val_tn: 45480.0000 - val_fn: 17.0000 - val_accuracy: 0.9994 - val_precision: 0.8750 - val_recall: 0.7875 - val_auc: 0.9622 - val_prc: 0.8498\n",
            "Epoch 48/100\n",
            "90/90 [==============================] - 0s 5ms/step - loss: 0.0038 - cross entropy: 0.0038 - Brier score: 7.0087e-04 - tp: 185.0000 - fp: 32.0000 - tn: 181935.0000 - fn: 124.0000 - accuracy: 0.9991 - precision: 0.8525 - recall: 0.5987 - auc: 0.9018 - prc: 0.7179 - val_loss: 0.0025 - val_cross entropy: 0.0025 - val_Brier score: 4.7877e-04 - val_tp: 63.0000 - val_fp: 9.0000 - val_tn: 45480.0000 - val_fn: 17.0000 - val_accuracy: 0.9994 - val_precision: 0.8750 - val_recall: 0.7875 - val_auc: 0.9623 - val_prc: 0.8511\n",
            "Epoch 49/100\n",
            "90/90 [==============================] - 0s 4ms/step - loss: 0.0041 - cross entropy: 0.0041 - Brier score: 7.7260e-04 - tp: 169.0000 - fp: 28.0000 - tn: 181939.0000 - fn: 140.0000 - accuracy: 0.9991 - precision: 0.8579 - recall: 0.5469 - auc: 0.9083 - prc: 0.6842 - val_loss: 0.0025 - val_cross entropy: 0.0025 - val_Brier score: 4.7685e-04 - val_tp: 63.0000 - val_fp: 9.0000 - val_tn: 45480.0000 - val_fn: 17.0000 - val_accuracy: 0.9994 - val_precision: 0.8750 - val_recall: 0.7875 - val_auc: 0.9560 - val_prc: 0.8438\n",
            "Epoch 50/100\n",
            "90/90 [==============================] - 0s 4ms/step - loss: 0.0039 - cross entropy: 0.0039 - Brier score: 7.4583e-04 - tp: 177.0000 - fp: 28.0000 - tn: 181939.0000 - fn: 132.0000 - accuracy: 0.9991 - precision: 0.8634 - recall: 0.5728 - auc: 0.9084 - prc: 0.7283 - val_loss: 0.0025 - val_cross entropy: 0.0025 - val_Brier score: 4.7345e-04 - val_tp: 63.0000 - val_fp: 10.0000 - val_tn: 45479.0000 - val_fn: 17.0000 - val_accuracy: 0.9994 - val_precision: 0.8630 - val_recall: 0.7875 - val_auc: 0.9560 - val_prc: 0.8454\n",
            "Epoch 51/100\n",
            "90/90 [==============================] - 1s 6ms/step - loss: 0.0038 - cross entropy: 0.0038 - Brier score: 7.1489e-04 - tp: 183.0000 - fp: 31.0000 - tn: 181936.0000 - fn: 126.0000 - accuracy: 0.9991 - precision: 0.8551 - recall: 0.5922 - auc: 0.9213 - prc: 0.7282 - val_loss: 0.0025 - val_cross entropy: 0.0025 - val_Brier score: 4.8410e-04 - val_tp: 63.0000 - val_fp: 9.0000 - val_tn: 45480.0000 - val_fn: 17.0000 - val_accuracy: 0.9994 - val_precision: 0.8750 - val_recall: 0.7875 - val_auc: 0.9622 - val_prc: 0.8504\n",
            "Epoch 52/100\n",
            "90/90 [==============================] - 0s 4ms/step - loss: 0.0042 - cross entropy: 0.0042 - Brier score: 7.8788e-04 - tp: 169.0000 - fp: 28.0000 - tn: 181939.0000 - fn: 140.0000 - accuracy: 0.9991 - precision: 0.8579 - recall: 0.5469 - auc: 0.8985 - prc: 0.6940 - val_loss: 0.0025 - val_cross entropy: 0.0025 - val_Brier score: 4.7619e-04 - val_tp: 63.0000 - val_fp: 9.0000 - val_tn: 45480.0000 - val_fn: 17.0000 - val_accuracy: 0.9994 - val_precision: 0.8750 - val_recall: 0.7875 - val_auc: 0.9622 - val_prc: 0.8520\n",
            "Epoch 53/100\n",
            "90/90 [==============================] - 0s 5ms/step - loss: 0.0039 - cross entropy: 0.0039 - Brier score: 7.6067e-04 - tp: 172.0000 - fp: 26.0000 - tn: 181941.0000 - fn: 137.0000 - accuracy: 0.9991 - precision: 0.8687 - recall: 0.5566 - auc: 0.9051 - prc: 0.7068 - val_loss: 0.0025 - val_cross entropy: 0.0025 - val_Brier score: 4.7629e-04 - val_tp: 63.0000 - val_fp: 9.0000 - val_tn: 45480.0000 - val_fn: 17.0000 - val_accuracy: 0.9994 - val_precision: 0.8750 - val_recall: 0.7875 - val_auc: 0.9622 - val_prc: 0.8505\n",
            "Epoch 54/100\n",
            "90/90 [==============================] - 0s 4ms/step - loss: 0.0038 - cross entropy: 0.0038 - Brier score: 7.3091e-04 - tp: 174.0000 - fp: 28.0000 - tn: 181939.0000 - fn: 135.0000 - accuracy: 0.9991 - precision: 0.8614 - recall: 0.5631 - auc: 0.9197 - prc: 0.7238 - val_loss: 0.0025 - val_cross entropy: 0.0025 - val_Brier score: 4.7505e-04 - val_tp: 63.0000 - val_fp: 9.0000 - val_tn: 45480.0000 - val_fn: 17.0000 - val_accuracy: 0.9994 - val_precision: 0.8750 - val_recall: 0.7875 - val_auc: 0.9622 - val_prc: 0.8507\n",
            "Epoch 55/100\n",
            "90/90 [==============================] - 0s 5ms/step - loss: 0.0039 - cross entropy: 0.0039 - Brier score: 6.8446e-04 - tp: 183.0000 - fp: 22.0000 - tn: 181945.0000 - fn: 126.0000 - accuracy: 0.9992 - precision: 0.8927 - recall: 0.5922 - auc: 0.9147 - prc: 0.7243 - val_loss: 0.0025 - val_cross entropy: 0.0025 - val_Brier score: 4.6762e-04 - val_tp: 63.0000 - val_fp: 9.0000 - val_tn: 45480.0000 - val_fn: 17.0000 - val_accuracy: 0.9994 - val_precision: 0.8750 - val_recall: 0.7875 - val_auc: 0.9622 - val_prc: 0.8484\n",
            "Epoch 56/100\n",
            "90/90 [==============================] - 0s 5ms/step - loss: 0.0037 - cross entropy: 0.0037 - Brier score: 6.8160e-04 - tp: 189.0000 - fp: 28.0000 - tn: 181939.0000 - fn: 120.0000 - accuracy: 0.9992 - precision: 0.8710 - recall: 0.6117 - auc: 0.9375 - prc: 0.7337 - val_loss: 0.0025 - val_cross entropy: 0.0025 - val_Brier score: 4.7175e-04 - val_tp: 63.0000 - val_fp: 9.0000 - val_tn: 45480.0000 - val_fn: 17.0000 - val_accuracy: 0.9994 - val_precision: 0.8750 - val_recall: 0.7875 - val_auc: 0.9622 - val_prc: 0.8514\n",
            "Epoch 57/100\n",
            "90/90 [==============================] - 1s 9ms/step - loss: 0.0036 - cross entropy: 0.0036 - Brier score: 6.9546e-04 - tp: 186.0000 - fp: 26.0000 - tn: 181941.0000 - fn: 123.0000 - accuracy: 0.9992 - precision: 0.8774 - recall: 0.6019 - auc: 0.9262 - prc: 0.7494 - val_loss: 0.0025 - val_cross entropy: 0.0025 - val_Brier score: 4.7064e-04 - val_tp: 63.0000 - val_fp: 9.0000 - val_tn: 45480.0000 - val_fn: 17.0000 - val_accuracy: 0.9994 - val_precision: 0.8750 - val_recall: 0.7875 - val_auc: 0.9623 - val_prc: 0.8553\n",
            "Epoch 58/100\n",
            "90/90 [==============================] - 1s 9ms/step - loss: 0.0037 - cross entropy: 0.0037 - Brier score: 7.2726e-04 - tp: 175.0000 - fp: 28.0000 - tn: 181939.0000 - fn: 134.0000 - accuracy: 0.9991 - precision: 0.8621 - recall: 0.5663 - auc: 0.9212 - prc: 0.7348 - val_loss: 0.0025 - val_cross entropy: 0.0025 - val_Brier score: 4.6836e-04 - val_tp: 63.0000 - val_fp: 9.0000 - val_tn: 45480.0000 - val_fn: 17.0000 - val_accuracy: 0.9994 - val_precision: 0.8750 - val_recall: 0.7875 - val_auc: 0.9622 - val_prc: 0.8525\n",
            "Epoch 59/100\n",
            "90/90 [==============================] - 1s 9ms/step - loss: 0.0039 - cross entropy: 0.0039 - Brier score: 7.4371e-04 - tp: 180.0000 - fp: 30.0000 - tn: 181937.0000 - fn: 129.0000 - accuracy: 0.9991 - precision: 0.8571 - recall: 0.5825 - auc: 0.9034 - prc: 0.7184 - val_loss: 0.0025 - val_cross entropy: 0.0025 - val_Brier score: 4.6587e-04 - val_tp: 65.0000 - val_fp: 10.0000 - val_tn: 45479.0000 - val_fn: 15.0000 - val_accuracy: 0.9995 - val_precision: 0.8667 - val_recall: 0.8125 - val_auc: 0.9622 - val_prc: 0.8514\n",
            "Epoch 60/100\n",
            "90/90 [==============================] - 1s 9ms/step - loss: 0.0037 - cross entropy: 0.0037 - Brier score: 7.0505e-04 - tp: 183.0000 - fp: 27.0000 - tn: 181940.0000 - fn: 126.0000 - accuracy: 0.9992 - precision: 0.8714 - recall: 0.5922 - auc: 0.9180 - prc: 0.7272 - val_loss: 0.0025 - val_cross entropy: 0.0025 - val_Brier score: 4.7137e-04 - val_tp: 63.0000 - val_fp: 9.0000 - val_tn: 45480.0000 - val_fn: 17.0000 - val_accuracy: 0.9994 - val_precision: 0.8750 - val_recall: 0.7875 - val_auc: 0.9622 - val_prc: 0.8527\n",
            "Epoch 61/100\n",
            "90/90 [==============================] - 1s 9ms/step - loss: 0.0035 - cross entropy: 0.0035 - Brier score: 6.8469e-04 - tp: 184.0000 - fp: 23.0000 - tn: 181944.0000 - fn: 125.0000 - accuracy: 0.9992 - precision: 0.8889 - recall: 0.5955 - auc: 0.9277 - prc: 0.7436 - val_loss: 0.0025 - val_cross entropy: 0.0025 - val_Brier score: 4.7122e-04 - val_tp: 63.0000 - val_fp: 9.0000 - val_tn: 45480.0000 - val_fn: 17.0000 - val_accuracy: 0.9994 - val_precision: 0.8750 - val_recall: 0.7875 - val_auc: 0.9622 - val_prc: 0.8543\n",
            "Epoch 62/100\n",
            "90/90 [==============================] - 1s 16ms/step - loss: 0.0035 - cross entropy: 0.0035 - Brier score: 6.7827e-04 - tp: 188.0000 - fp: 26.0000 - tn: 181941.0000 - fn: 121.0000 - accuracy: 0.9992 - precision: 0.8785 - recall: 0.6084 - auc: 0.9261 - prc: 0.7486 - val_loss: 0.0025 - val_cross entropy: 0.0025 - val_Brier score: 4.7249e-04 - val_tp: 63.0000 - val_fp: 9.0000 - val_tn: 45480.0000 - val_fn: 17.0000 - val_accuracy: 0.9994 - val_precision: 0.8750 - val_recall: 0.7875 - val_auc: 0.9622 - val_prc: 0.8520\n",
            "Epoch 63/100\n",
            "90/90 [==============================] - 1s 8ms/step - loss: 0.0038 - cross entropy: 0.0038 - Brier score: 7.2012e-04 - tp: 172.0000 - fp: 21.0000 - tn: 181946.0000 - fn: 137.0000 - accuracy: 0.9991 - precision: 0.8912 - recall: 0.5566 - auc: 0.9212 - prc: 0.7265 - val_loss: 0.0025 - val_cross entropy: 0.0025 - val_Brier score: 4.6800e-04 - val_tp: 63.0000 - val_fp: 9.0000 - val_tn: 45480.0000 - val_fn: 17.0000 - val_accuracy: 0.9994 - val_precision: 0.8750 - val_recall: 0.7875 - val_auc: 0.9622 - val_prc: 0.8528\n",
            "Epoch 64/100\n",
            "90/90 [==============================] - 1s 7ms/step - loss: 0.0038 - cross entropy: 0.0038 - Brier score: 6.9255e-04 - tp: 186.0000 - fp: 27.0000 - tn: 181940.0000 - fn: 123.0000 - accuracy: 0.9992 - precision: 0.8732 - recall: 0.6019 - auc: 0.9178 - prc: 0.7101 - val_loss: 0.0025 - val_cross entropy: 0.0025 - val_Brier score: 4.7553e-04 - val_tp: 63.0000 - val_fp: 9.0000 - val_tn: 45480.0000 - val_fn: 17.0000 - val_accuracy: 0.9994 - val_precision: 0.8750 - val_recall: 0.7875 - val_auc: 0.9622 - val_prc: 0.8533\n",
            "Epoch 65/100\n",
            "90/90 [==============================] - 1s 7ms/step - loss: 0.0036 - cross entropy: 0.0036 - Brier score: 6.9265e-04 - tp: 174.0000 - fp: 25.0000 - tn: 181942.0000 - fn: 135.0000 - accuracy: 0.9991 - precision: 0.8744 - recall: 0.5631 - auc: 0.9229 - prc: 0.7410 - val_loss: 0.0025 - val_cross entropy: 0.0025 - val_Brier score: 4.6427e-04 - val_tp: 67.0000 - val_fp: 10.0000 - val_tn: 45479.0000 - val_fn: 13.0000 - val_accuracy: 0.9995 - val_precision: 0.8701 - val_recall: 0.8375 - val_auc: 0.9622 - val_prc: 0.8500\n",
            "Epoch 66/100\n",
            "90/90 [==============================] - 1s 7ms/step - loss: 0.0035 - cross entropy: 0.0035 - Brier score: 6.7310e-04 - tp: 188.0000 - fp: 22.0000 - tn: 181945.0000 - fn: 121.0000 - accuracy: 0.9992 - precision: 0.8952 - recall: 0.6084 - auc: 0.9260 - prc: 0.7466 - val_loss: 0.0025 - val_cross entropy: 0.0025 - val_Brier score: 4.6845e-04 - val_tp: 63.0000 - val_fp: 9.0000 - val_tn: 45480.0000 - val_fn: 17.0000 - val_accuracy: 0.9994 - val_precision: 0.8750 - val_recall: 0.7875 - val_auc: 0.9622 - val_prc: 0.8506\n",
            "Epoch 67/100\n",
            "85/90 [===========================>..] - ETA: 0s - loss: 0.0037 - cross entropy: 0.0037 - Brier score: 7.0745e-04 - tp: 171.0000 - fp: 27.0000 - tn: 173756.0000 - fn: 126.0000 - accuracy: 0.9991 - precision: 0.8636 - recall: 0.5758 - auc: 0.9180 - prc: 0.7422Restoring model weights from the end of the best epoch: 57.\n",
            "90/90 [==============================] - 0s 4ms/step - loss: 0.0037 - cross entropy: 0.0037 - Brier score: 7.0280e-04 - tp: 179.0000 - fp: 28.0000 - tn: 181939.0000 - fn: 130.0000 - accuracy: 0.9991 - precision: 0.8647 - recall: 0.5793 - auc: 0.9179 - prc: 0.7384 - val_loss: 0.0025 - val_cross entropy: 0.0025 - val_Brier score: 4.7229e-04 - val_tp: 63.0000 - val_fp: 9.0000 - val_tn: 45480.0000 - val_fn: 17.0000 - val_accuracy: 0.9994 - val_precision: 0.8750 - val_recall: 0.7875 - val_auc: 0.9622 - val_prc: 0.8529\n",
            "Epoch 67: early stopping\n"
          ]
        }
      ]
    },
    {
      "cell_type": "markdown",
      "source": [
        "# Check training history"
      ],
      "metadata": {
        "id": "-KSyjsX9CDlJ"
      }
    },
    {
      "cell_type": "code",
      "source": [
        "def plot_metrics(history):\n",
        "  metrics = ['loss', 'prc', 'precision', 'recall']\n",
        "  for n, metric in enumerate(metrics):\n",
        "    name = metric.replace(\"_\",\" \").capitalize()\n",
        "    plt.subplot(2,2,n+1)\n",
        "    plt.plot(history.epoch, history.history[metric], color=colors[0], label='Train')\n",
        "    plt.plot(history.epoch, history.history['val_'+metric],\n",
        "             color=colors[0], linestyle=\"--\", label='Val')\n",
        "    plt.xlabel('Epoch')\n",
        "    plt.ylabel(name)\n",
        "    if metric == 'loss':\n",
        "      plt.ylim([0, plt.ylim()[1]])\n",
        "    elif metric == 'auc':\n",
        "      plt.ylim([0.8,1])\n",
        "    else:\n",
        "      plt.ylim([0,1])\n",
        "\n",
        "    plt.legend()"
      ],
      "metadata": {
        "id": "I06EWedlCBw_"
      },
      "execution_count": 28,
      "outputs": []
    },
    {
      "cell_type": "code",
      "source": [
        "plot_metrics(baseline_history)"
      ],
      "metadata": {
        "colab": {
          "base_uri": "https://localhost:8080/",
          "height": 855
        },
        "id": "pvZv7CJdCJ3f",
        "outputId": "07b25d27-53a6-46a2-f74a-3601688bd2fc"
      },
      "execution_count": 29,
      "outputs": [
        {
          "output_type": "display_data",
          "data": {
            "text/plain": [
              "<Figure size 1200x1000 with 4 Axes>"
            ],
            "image/png": "[encoded data removed]"
          },
          "metadata": {}
        }
      ]
    },
    {
      "cell_type": "markdown",
      "source": [
        "# Evaluate metrics"
      ],
      "metadata": {
        "id": "GEP9qyHYCS7i"
      }
    },
    {
      "cell_type": "code",
      "source": [
        "train_predictions_baseline = model.predict(train_features, batch_size=BATCH_SIZE)\n",
        "test_predictions_baseline = model.predict(test_features, batch_size=BATCH_SIZE)"
      ],
      "metadata": {
        "colab": {
          "base_uri": "https://localhost:8080/"
        },
        "id": "KXITtWLyCRc3",
        "outputId": "69ee2afc-88c2-47d4-a095-4331c6132f34"
      },
      "execution_count": 30,
      "outputs": [
        {
          "output_type": "stream",
          "name": "stdout",
          "text": [
            "90/90 [==============================] - 0s 3ms/step\n",
            "28/28 [==============================] - 0s 3ms/step\n"
          ]
        }
      ]
    },
    {
      "cell_type": "code",
      "source": [
        "def plot_cm(labels, predictions, threshold=0.5):\n",
        "  cm = confusion_matrix(labels, predictions > threshold)\n",
        "  plt.figure(figsize=(5,5))\n",
        "  sns.heatmap(cm, annot=True, fmt=\"d\")\n",
        "  plt.title('Confusion matrix @{:.2f}'.format(threshold))\n",
        "  plt.ylabel('Actual label')\n",
        "  plt.xlabel('Predicted label')\n",
        "\n",
        "  print('Legitimate Transactions Detected (True Negatives): ', cm[0][0])\n",
        "  print('Legitimate Transactions Incorrectly Detected (False Positives): ', cm[0][1])\n",
        "  print('Fraudulent Transactions Missed (False Negatives): ', cm[1][0])\n",
        "  print('Fraudulent Transactions Detected (True Positives): ', cm[1][1])\n",
        "  print('Total Fraudulent Transactions: ', np.sum(cm[1]))"
      ],
      "metadata": {
        "id": "8_uAhWZTCOEl"
      },
      "execution_count": 31,
      "outputs": []
    },
    {
      "cell_type": "markdown",
      "source": [
        "Evaluate your model on the test dataset and display the results for the metrics you created above:"
      ],
      "metadata": {
        "id": "K9r4VSwbCjQR"
      }
    },
    {
      "cell_type": "code",
      "source": [
        "baseline_results = model.evaluate(test_features, test_labels,\n",
        "                                  batch_size=BATCH_SIZE, verbose=0)\n",
        "for name, value in zip(model.metrics_names, baseline_results):\n",
        "  print(name, ': ', value)\n",
        "print()\n",
        "\n",
        "plot_cm(test_labels, test_predictions_baseline)"
      ],
      "metadata": {
        "colab": {
          "base_uri": "https://localhost:8080/",
          "height": 799
        },
        "id": "hVeAlWq1CgST",
        "outputId": "0b6097a3-9340-4f2b-c236-8f02f4a42236"
      },
      "execution_count": 32,
      "outputs": [
        {
          "output_type": "stream",
          "name": "stdout",
          "text": [
            "loss :  0.0030197000596672297\n",
            "cross entropy :  0.0030197000596672297\n",
            "Brier score :  0.0005230961833149195\n",
            "tp :  74.0\n",
            "fp :  6.0\n",
            "tn :  56853.0\n",
            "fn :  29.0\n",
            "accuracy :  0.9993855357170105\n",
            "precision :  0.925000011920929\n",
            "recall :  0.7184466123580933\n",
            "auc :  0.9463213086128235\n",
            "prc :  0.8434863686561584\n",
            "\n",
            "Legitimate Transactions Detected (True Negatives):  56853\n",
            "Legitimate Transactions Incorrectly Detected (False Positives):  6\n",
            "Fraudulent Transactions Missed (False Negatives):  29\n",
            "Fraudulent Transactions Detected (True Positives):  74\n",
            "Total Fraudulent Transactions:  103\n"
          ]
        },
        {
          "output_type": "display_data",
          "data": {
            "text/plain": [
              "<Figure size 500x500 with 2 Axes>"
            ],
            "image/png": "[encoded data removed]"
          },
          "metadata": {}
        }
      ]
    },
    {
      "cell_type": "markdown",
      "source": [
        "# Changing the threshold"
      ],
      "metadata": {
        "id": "GMw7BiRsCy1v"
      }
    },
    {
      "cell_type": "code",
      "source": [
        "plot_cm(test_labels, test_predictions_baseline, threshold=0.1)\n",
        "plot_cm(test_labels, test_predictions_baseline, threshold=0.01)"
      ],
      "metadata": {
        "colab": {
          "base_uri": "https://localhost:8080/",
          "height": 1000
        },
        "id": "dn8mFyWbCxxB",
        "outputId": "c2cc476f-92ff-4e7a-d349-2f64e85a0527"
      },
      "execution_count": 33,
      "outputs": [
        {
          "output_type": "stream",
          "name": "stdout",
          "text": [
            "Legitimate Transactions Detected (True Negatives):  56849\n",
            "Legitimate Transactions Incorrectly Detected (False Positives):  10\n",
            "Fraudulent Transactions Missed (False Negatives):  22\n",
            "Fraudulent Transactions Detected (True Positives):  81\n",
            "Total Fraudulent Transactions:  103\n",
            "Legitimate Transactions Detected (True Negatives):  56804\n",
            "Legitimate Transactions Incorrectly Detected (False Positives):  55\n",
            "Fraudulent Transactions Missed (False Negatives):  13\n",
            "Fraudulent Transactions Detected (True Positives):  90\n",
            "Total Fraudulent Transactions:  103\n"
          ]
        },
        {
          "output_type": "display_data",
          "data": {
            "text/plain": [
              "<Figure size 500x500 with 2 Axes>"
            ],
            "image/png": "[encoded data removed]"
          },
          "metadata": {}
        },
        {
          "output_type": "display_data",
          "data": {
            "text/plain": [
              "<Figure size 500x500 with 2 Axes>"
            ],
            "image/png": "[encoded data removed]"
          },
          "metadata": {}
        }
      ]
    },
    {
      "cell_type": "code",
      "source": [],
      "metadata": {
        "id": "2SYlDFoaCvka"
      },
      "execution_count": null,
      "outputs": []
    }
  ]
}